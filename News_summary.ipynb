{
  "nbformat": 4,
  "nbformat_minor": 0,
  "metadata": {
    "colab": {
      "name": "News_summary.ipynb",
      "provenance": [],
      "collapsed_sections": [],
      "include_colab_link": true
    },
    "kernelspec": {
      "display_name": "Python 3",
      "language": "python",
      "name": "python3"
    }
  },
  "cells": [
    {
      "cell_type": "markdown",
      "metadata": {
        "id": "view-in-github",
        "colab_type": "text"
      },
      "source": [
        "<a href=\"https://colab.research.google.com/github/hanan000/Simple-data-scraping/blob/master/News_summary.ipynb\" target=\"_parent\"><img src=\"https://colab.research.google.com/assets/colab-badge.svg\" alt=\"Open In Colab\"/></a>"
      ]
    },
    {
      "cell_type": "code",
      "metadata": {
        "colab": {
          "base_uri": "https://localhost:8080/"
        },
        "id": "mHDtn5VZ_Zi1",
        "outputId": "36d41ca0-ac6e-4c76-ee0a-70547f9ffcca"
      },
      "source": [
        "from google.colab import drive\n",
        "drive.mount('/content/drive')"
      ],
      "execution_count": null,
      "outputs": [
        {
          "output_type": "stream",
          "text": [
            "Mounted at /content/drive\n"
          ],
          "name": "stdout"
        }
      ]
    },
    {
      "cell_type": "code",
      "metadata": {
        "colab": {
          "base_uri": "https://localhost:8080/"
        },
        "id": "FTOexWagkEUN",
        "outputId": "a03a5d53-8132-4397-bf4f-27cce7611a8c"
      },
      "source": [
        "cd/content/drive/MyDrive/news"
      ],
      "execution_count": null,
      "outputs": [
        {
          "output_type": "stream",
          "text": [
            "/content/drive/MyDrive/news\n"
          ],
          "name": "stdout"
        }
      ]
    },
    {
      "cell_type": "code",
      "metadata": {
        "colab": {
          "base_uri": "https://localhost:8080/"
        },
        "id": "-HWvqa2rg_oA",
        "outputId": "7f1af277-cfa7-4497-a3e1-274ce1a3f627"
      },
      "source": [
        "!pip install  rouge-score"
      ],
      "execution_count": null,
      "outputs": [
        {
          "output_type": "stream",
          "text": [
            "Collecting rouge-score\n",
            "  Downloading https://files.pythonhosted.org/packages/1f/56/a81022436c08b9405a5247b71635394d44fe7e1dbedc4b28c740e09c2840/rouge_score-0.0.4-py2.py3-none-any.whl\n",
            "Requirement already satisfied: numpy in /usr/local/lib/python3.7/dist-packages (from rouge-score) (1.19.5)\n",
            "Requirement already satisfied: nltk in /usr/local/lib/python3.7/dist-packages (from rouge-score) (3.2.5)\n",
            "Requirement already satisfied: absl-py in /usr/local/lib/python3.7/dist-packages (from rouge-score) (0.12.0)\n",
            "Requirement already satisfied: six>=1.14.0 in /usr/local/lib/python3.7/dist-packages (from rouge-score) (1.15.0)\n",
            "Installing collected packages: rouge-score\n",
            "Successfully installed rouge-score-0.0.4\n"
          ],
          "name": "stdout"
        }
      ]
    },
    {
      "cell_type": "code",
      "metadata": {
        "colab": {
          "base_uri": "https://localhost:8080/"
        },
        "id": "hL33lhHWPcmP",
        "outputId": "c0b329ab-df27-4e99-d533-3a1911607a01"
      },
      "source": [
        "pip install rouge\n"
      ],
      "execution_count": null,
      "outputs": [
        {
          "output_type": "stream",
          "text": [
            "Collecting rouge\n",
            "  Downloading https://files.pythonhosted.org/packages/43/cc/e18e33be20971ff73a056ebdb023476b5a545e744e3fc22acd8c758f1e0d/rouge-1.0.0-py3-none-any.whl\n",
            "Requirement already satisfied: six in /usr/local/lib/python3.7/dist-packages (from rouge) (1.15.0)\n",
            "Installing collected packages: rouge\n",
            "Successfully installed rouge-1.0.0\n"
          ],
          "name": "stdout"
        }
      ]
    },
    {
      "cell_type": "code",
      "metadata": {
        "id": "Zbxhyl_zFlWL"
      },
      "source": [
        "import pandas as pd\n",
        "import numpy as np\n",
        "import tensorflow as tf\n",
        "import time\n",
        "import re\n",
        "import pickle"
      ],
      "execution_count": null,
      "outputs": []
    },
    {
      "cell_type": "markdown",
      "metadata": {
        "id": "yH5cg5pSIHaZ"
      },
      "source": [
        "### Loading Data"
      ]
    },
    {
      "cell_type": "code",
      "metadata": {
        "id": "K_AjGkWXITKA"
      },
      "source": [
        "news = pd.read_excel(\"/content/drive/MyDrive/news/news.xlsx\")"
      ],
      "execution_count": null,
      "outputs": []
    },
    {
      "cell_type": "code",
      "metadata": {
        "id": "S-rYZhayIe9x"
      },
      "source": [
        "news.drop(['Source ', 'Time ', 'Publish Date'], axis=1, inplace=True)"
      ],
      "execution_count": null,
      "outputs": []
    },
    {
      "cell_type": "code",
      "metadata": {
        "colab": {
          "base_uri": "https://localhost:8080/",
          "height": 204
        },
        "id": "oXtxc-toIc94",
        "outputId": "4da3326b-e7b9-44ea-c331-c83c965b7722"
      },
      "source": [
        "news.head()"
      ],
      "execution_count": null,
      "outputs": [
        {
          "output_type": "execute_result",
          "data": {
            "text/html": [
              "<div>\n",
              "<style scoped>\n",
              "    .dataframe tbody tr th:only-of-type {\n",
              "        vertical-align: middle;\n",
              "    }\n",
              "\n",
              "    .dataframe tbody tr th {\n",
              "        vertical-align: top;\n",
              "    }\n",
              "\n",
              "    .dataframe thead th {\n",
              "        text-align: right;\n",
              "    }\n",
              "</style>\n",
              "<table border=\"1\" class=\"dataframe\">\n",
              "  <thead>\n",
              "    <tr style=\"text-align: right;\">\n",
              "      <th></th>\n",
              "      <th>Headline</th>\n",
              "      <th>Short</th>\n",
              "    </tr>\n",
              "  </thead>\n",
              "  <tbody>\n",
              "    <tr>\n",
              "      <th>0</th>\n",
              "      <td>4 ex-bank officials booked for cheating bank o...</td>\n",
              "      <td>The CBI on Saturday booked four former officia...</td>\n",
              "    </tr>\n",
              "    <tr>\n",
              "      <th>1</th>\n",
              "      <td>Supreme Court to go paperless in 6 months: CJI</td>\n",
              "      <td>Chief Justice JS Khehar has said the Supreme C...</td>\n",
              "    </tr>\n",
              "    <tr>\n",
              "      <th>2</th>\n",
              "      <td>At least 3 killed, 30 injured in blast in Sylh...</td>\n",
              "      <td>At least three people were killed, including a...</td>\n",
              "    </tr>\n",
              "    <tr>\n",
              "      <th>3</th>\n",
              "      <td>Why has Reliance been barred from trading in f...</td>\n",
              "      <td>Mukesh Ambani-led Reliance Industries (RIL) wa...</td>\n",
              "    </tr>\n",
              "    <tr>\n",
              "      <th>4</th>\n",
              "      <td>Was stopped from entering my own studio at Tim...</td>\n",
              "      <td>TV news anchor Arnab Goswami has said he was t...</td>\n",
              "    </tr>\n",
              "  </tbody>\n",
              "</table>\n",
              "</div>"
            ],
            "text/plain": [
              "                                            Headline                                              Short\n",
              "0  4 ex-bank officials booked for cheating bank o...  The CBI on Saturday booked four former officia...\n",
              "1     Supreme Court to go paperless in 6 months: CJI  Chief Justice JS Khehar has said the Supreme C...\n",
              "2  At least 3 killed, 30 injured in blast in Sylh...  At least three people were killed, including a...\n",
              "3  Why has Reliance been barred from trading in f...  Mukesh Ambani-led Reliance Industries (RIL) wa...\n",
              "4  Was stopped from entering my own studio at Tim...  TV news anchor Arnab Goswami has said he was t..."
            ]
          },
          "metadata": {
            "tags": []
          },
          "execution_count": 7
        }
      ]
    },
    {
      "cell_type": "code",
      "metadata": {
        "colab": {
          "base_uri": "https://localhost:8080/"
        },
        "id": "vR2hg9themaN",
        "outputId": "c000c76f-56fa-43a4-94fd-fdd79b5c6ba3"
      },
      "source": [
        "news.shape"
      ],
      "execution_count": null,
      "outputs": [
        {
          "output_type": "execute_result",
          "data": {
            "text/plain": [
              "(55104, 2)"
            ]
          },
          "metadata": {
            "tags": []
          },
          "execution_count": 8
        }
      ]
    },
    {
      "cell_type": "code",
      "metadata": {
        "colab": {
          "base_uri": "https://localhost:8080/",
          "height": 204
        },
        "id": "iAm2qZPLN18o",
        "outputId": "ee2bedec-09c7-4c2c-89b1-db3405d705a9"
      },
      "source": [
        "news_train = pd.read_csv(\"/content/drive/MyDrive/news/Train_news.csv\")\n",
        "news_train.head()"
      ],
      "execution_count": null,
      "outputs": [
        {
          "output_type": "execute_result",
          "data": {
            "text/html": [
              "<div>\n",
              "<style scoped>\n",
              "    .dataframe tbody tr th:only-of-type {\n",
              "        vertical-align: middle;\n",
              "    }\n",
              "\n",
              "    .dataframe tbody tr th {\n",
              "        vertical-align: top;\n",
              "    }\n",
              "\n",
              "    .dataframe thead th {\n",
              "        text-align: right;\n",
              "    }\n",
              "</style>\n",
              "<table border=\"1\" class=\"dataframe\">\n",
              "  <thead>\n",
              "    <tr style=\"text-align: right;\">\n",
              "      <th></th>\n",
              "      <th>Text</th>\n",
              "      <th>summary</th>\n",
              "    </tr>\n",
              "  </thead>\n",
              "  <tbody>\n",
              "    <tr>\n",
              "      <th>0</th>\n",
              "      <td>The CBI on Saturday booked four former officia...</td>\n",
              "      <td>4 ex-bank officials booked for cheating bank o...</td>\n",
              "    </tr>\n",
              "    <tr>\n",
              "      <th>1</th>\n",
              "      <td>Chief Justice JS Khehar has said the Supreme C...</td>\n",
              "      <td>Supreme Court to go paperless in 6 months: CJI</td>\n",
              "    </tr>\n",
              "    <tr>\n",
              "      <th>2</th>\n",
              "      <td>At least three people were killed, including a...</td>\n",
              "      <td>At least 3 killed, 30 injured in blast in Sylh...</td>\n",
              "    </tr>\n",
              "    <tr>\n",
              "      <th>3</th>\n",
              "      <td>Mukesh Ambani-led Reliance Industries (RIL) wa...</td>\n",
              "      <td>Why has Reliance been barred from trading in f...</td>\n",
              "    </tr>\n",
              "    <tr>\n",
              "      <th>4</th>\n",
              "      <td>TV news anchor Arnab Goswami has said he was t...</td>\n",
              "      <td>Was stopped from entering my own studio at Tim...</td>\n",
              "    </tr>\n",
              "  </tbody>\n",
              "</table>\n",
              "</div>"
            ],
            "text/plain": [
              "                                                Text                                            summary\n",
              "0  The CBI on Saturday booked four former officia...  4 ex-bank officials booked for cheating bank o...\n",
              "1  Chief Justice JS Khehar has said the Supreme C...     Supreme Court to go paperless in 6 months: CJI\n",
              "2  At least three people were killed, including a...  At least 3 killed, 30 injured in blast in Sylh...\n",
              "3  Mukesh Ambani-led Reliance Industries (RIL) wa...  Why has Reliance been barred from trading in f...\n",
              "4  TV news anchor Arnab Goswami has said he was t...  Was stopped from entering my own studio at Tim..."
            ]
          },
          "metadata": {
            "tags": []
          },
          "execution_count": 9
        }
      ]
    },
    {
      "cell_type": "code",
      "metadata": {
        "colab": {
          "base_uri": "https://localhost:8080/"
        },
        "id": "2acdtxlHOMSY",
        "outputId": "927b2cee-11b9-46e9-a824-3f0c821c0dbd"
      },
      "source": [
        "news_train.shape"
      ],
      "execution_count": null,
      "outputs": [
        {
          "output_type": "execute_result",
          "data": {
            "text/plain": [
              "(54104, 2)"
            ]
          },
          "metadata": {
            "tags": []
          },
          "execution_count": 10
        }
      ]
    },
    {
      "cell_type": "code",
      "metadata": {
        "colab": {
          "base_uri": "https://localhost:8080/",
          "height": 204
        },
        "id": "_LdxNCzHOn7v",
        "outputId": "ce66f520-4b84-48a3-99b0-3b0485c30c1e"
      },
      "source": [
        "news_test= pd.read_csv(\"/content/drive/MyDrive/news/Test_news.csv\")\n",
        "news_test.head()"
      ],
      "execution_count": null,
      "outputs": [
        {
          "output_type": "execute_result",
          "data": {
            "text/html": [
              "<div>\n",
              "<style scoped>\n",
              "    .dataframe tbody tr th:only-of-type {\n",
              "        vertical-align: middle;\n",
              "    }\n",
              "\n",
              "    .dataframe tbody tr th {\n",
              "        vertical-align: top;\n",
              "    }\n",
              "\n",
              "    .dataframe thead th {\n",
              "        text-align: right;\n",
              "    }\n",
              "</style>\n",
              "<table border=\"1\" class=\"dataframe\">\n",
              "  <thead>\n",
              "    <tr style=\"text-align: right;\">\n",
              "      <th></th>\n",
              "      <th>Text</th>\n",
              "      <th>summary</th>\n",
              "    </tr>\n",
              "  </thead>\n",
              "  <tbody>\n",
              "    <tr>\n",
              "      <th>0</th>\n",
              "      <td>The All India Congress Committee has sought re...</td>\n",
              "      <td>AICC seeks report on minister transferring cop</td>\n",
              "    </tr>\n",
              "    <tr>\n",
              "      <th>1</th>\n",
              "      <td>At least eight people were reportedly killed a...</td>\n",
              "      <td>Eight dead, 28 injured in bomb attack in Nigeria</td>\n",
              "    </tr>\n",
              "    <tr>\n",
              "      <th>2</th>\n",
              "      <td>DMK leader MK Stalin on Thursday ridiculed Tam...</td>\n",
              "      <td>DMK&amp;#39;s Stalin ridicules TN CM&amp;#39;s Amma ca...</td>\n",
              "    </tr>\n",
              "    <tr>\n",
              "      <th>3</th>\n",
              "      <td>Google in America is reportedly testing solar-...</td>\n",
              "      <td>Google testing solar-powered drones for 5G</td>\n",
              "    </tr>\n",
              "    <tr>\n",
              "      <th>4</th>\n",
              "      <td>BJP leader Shatrughan Sinha on Friday criticis...</td>\n",
              "      <td>Shatrughan Sinha slams BJP in Arunachal issue</td>\n",
              "    </tr>\n",
              "  </tbody>\n",
              "</table>\n",
              "</div>"
            ],
            "text/plain": [
              "                                                Text                                            summary\n",
              "0  The All India Congress Committee has sought re...     AICC seeks report on minister transferring cop\n",
              "1  At least eight people were reportedly killed a...   Eight dead, 28 injured in bomb attack in Nigeria\n",
              "2  DMK leader MK Stalin on Thursday ridiculed Tam...  DMK&#39;s Stalin ridicules TN CM&#39;s Amma ca...\n",
              "3  Google in America is reportedly testing solar-...         Google testing solar-powered drones for 5G\n",
              "4  BJP leader Shatrughan Sinha on Friday criticis...      Shatrughan Sinha slams BJP in Arunachal issue"
            ]
          },
          "metadata": {
            "tags": []
          },
          "execution_count": 11
        }
      ]
    },
    {
      "cell_type": "code",
      "metadata": {
        "colab": {
          "base_uri": "https://localhost:8080/"
        },
        "id": "PIdaDxYuPaD_",
        "outputId": "d4b27b25-725c-4fd4-bf30-2f80abf2be3c"
      },
      "source": [
        "news_test.shape"
      ],
      "execution_count": null,
      "outputs": [
        {
          "output_type": "execute_result",
          "data": {
            "text/plain": [
              "(1000, 2)"
            ]
          },
          "metadata": {
            "tags": []
          },
          "execution_count": 12
        }
      ]
    },
    {
      "cell_type": "code",
      "metadata": {
        "colab": {
          "base_uri": "https://localhost:8080/"
        },
        "id": "axbfdFBgNsAb",
        "outputId": "3a4ed293-eac2-4fc8-add8-b2e5ba1767b0"
      },
      "source": [
        "test_articles = len(news_test)\n",
        "train_articles = len(news_train)\n",
        "total_articles = train_articles + test_articles\n",
        "print(100*'-' + '\\n')\n",
        "print(f'Number of train samples: {train_articles:,} ({train_articles/total_articles:.1%}) \\n' \n",
        "        f'Number of test samples: {test_articles:,} ({test_articles/total_articles:.1%})\\n'\n",
        "        f'Total samples {total_articles:,} ({total_articles/total_articles:0.0%})\\n') "
      ],
      "execution_count": null,
      "outputs": [
        {
          "output_type": "stream",
          "text": [
            "----------------------------------------------------------------------------------------------------\n",
            "\n",
            "Number of train samples: 54,104 (98.2%) \n",
            "Number of test samples: 1,000 (1.8%)\n",
            "Total samples 55,104 (100%)\n",
            "\n"
          ],
          "name": "stdout"
        }
      ]
    },
    {
      "cell_type": "code",
      "metadata": {
        "id": "-pWIqWB4Q1wA"
      },
      "source": [
        "summaryrtest=news_test['summary']\n",
        "documenttest=news_test['Text']"
      ],
      "execution_count": null,
      "outputs": []
    },
    {
      "cell_type": "code",
      "metadata": {
        "id": "FXOrPsiDQQIR"
      },
      "source": [
        "# since < and > from default tokens cannot be removed\n",
        "filters = '!\"#$%&()*+,-./:;=?@[\\\\]^_`{|}~\\t\\n'\n",
        "oov_token = '<unk>'"
      ],
      "execution_count": null,
      "outputs": []
    },
    {
      "cell_type": "code",
      "metadata": {
        "id": "GO3zGwjXQQor"
      },
      "source": [
        "document_tokenizer = tf.keras.preprocessing.text.Tokenizer(oov_token=oov_token)\n",
        "summary_tokenizer = tf.keras.preprocessing.text.Tokenizer(filters=filters, oov_token=oov_token)"
      ],
      "execution_count": null,
      "outputs": []
    },
    {
      "cell_type": "code",
      "metadata": {
        "id": "mgAH3-ONQQ5b"
      },
      "source": [
        "document_tokenizer.fit_on_texts(documenttest)\n",
        "summary_tokenizer.fit_on_texts(summaryrtest)"
      ],
      "execution_count": null,
      "outputs": []
    },
    {
      "cell_type": "code",
      "metadata": {
        "id": "9oj9r4NeQsf6"
      },
      "source": [
        "inputs = document_tokenizer.texts_to_sequences(documenttest)\n",
        "targets = summary_tokenizer.texts_to_sequences(summaryrtest)"
      ],
      "execution_count": null,
      "outputs": []
    },
    {
      "cell_type": "code",
      "metadata": {
        "id": "nuWe3xzYRGaV"
      },
      "source": [
        "inputs_ = document_tokenizer.sequences_to_texts(inputs)\n",
        "targets_ = summary_tokenizer.sequences_to_texts(targets)"
      ],
      "execution_count": null,
      "outputs": []
    },
    {
      "cell_type": "code",
      "metadata": {
        "id": "d4cEp3wmI2BX"
      },
      "source": [
        "document = news['Short']\n",
        "summary = news['Headline']"
      ],
      "execution_count": null,
      "outputs": []
    },
    {
      "cell_type": "code",
      "metadata": {
        "colab": {
          "base_uri": "https://localhost:8080/"
        },
        "id": "2z55AhpKIdK7",
        "outputId": "45a62e9e-995f-458b-b797-1ecf89f05f4d"
      },
      "source": [
        "document[30], summary[30]"
      ],
      "execution_count": null,
      "outputs": [
        {
          "output_type": "execute_result",
          "data": {
            "text/plain": [
              "('According to the Guinness World Records, the most generations alive in a single family have been seven.  The difference between the oldest and the youngest person in the family was about 109 years, when Augusta Bunge&#39;s great-great-great-great grandson was born on January 21, 1989. The family belonged to the United States of America.',\n",
              " 'The most generations alive in a single family have been 7')"
            ]
          },
          "metadata": {
            "tags": []
          },
          "execution_count": 21
        }
      ]
    },
    {
      "cell_type": "markdown",
      "metadata": {
        "id": "f8gKyq1gIq4r"
      },
      "source": [
        "### Preprocessing"
      ]
    },
    {
      "cell_type": "code",
      "metadata": {
        "colab": {
          "base_uri": "https://localhost:8080/"
        },
        "id": "TJ6LE4MrJjC_",
        "outputId": "4fd59815-fe82-4e83-9099-e070c3f0884d"
      },
      "source": [
        "# for decoder sequence\n",
        "summary = summary.apply(lambda x: '<go> ' + x + ' <stop>')\n",
        "summary.head()"
      ],
      "execution_count": null,
      "outputs": [
        {
          "output_type": "execute_result",
          "data": {
            "text/plain": [
              "0    <go> 4 ex-bank officials booked for cheating b...\n",
              "1    <go> Supreme Court to go paperless in 6 months...\n",
              "2    <go> At least 3 killed, 30 injured in blast in...\n",
              "3    <go> Why has Reliance been barred from trading...\n",
              "4    <go> Was stopped from entering my own studio a...\n",
              "Name: Headline, dtype: object"
            ]
          },
          "metadata": {
            "tags": []
          },
          "execution_count": 22
        }
      ]
    },
    {
      "cell_type": "markdown",
      "metadata": {
        "id": "95Zv7FIvKbTi"
      },
      "source": [
        "#### Tokenizing the texts into integer tokens"
      ]
    },
    {
      "cell_type": "code",
      "metadata": {
        "id": "7TqbpEyPMRqa"
      },
      "source": [
        "# since < and > from default tokens cannot be removed\n",
        "filters = '!\"#$%&()*+,-./:;=?@[\\\\]^_`{|}~\\t\\n'\n",
        "oov_token = '<unk>'"
      ],
      "execution_count": null,
      "outputs": []
    },
    {
      "cell_type": "code",
      "metadata": {
        "id": "cHw2csoYImsa"
      },
      "source": [
        "document_tokenizer = tf.keras.preprocessing.text.Tokenizer(oov_token=oov_token)\n",
        "summary_tokenizer = tf.keras.preprocessing.text.Tokenizer(filters=filters, oov_token=oov_token)"
      ],
      "execution_count": null,
      "outputs": []
    },
    {
      "cell_type": "code",
      "metadata": {
        "id": "DWU9Xu7OKVab"
      },
      "source": [
        "document_tokenizer.fit_on_texts(document)\n",
        "summary_tokenizer.fit_on_texts(summary)"
      ],
      "execution_count": null,
      "outputs": []
    },
    {
      "cell_type": "code",
      "metadata": {
        "id": "3ESm-aYR-tvx"
      },
      "source": [
        "inputs = document_tokenizer.texts_to_sequences(document)\n",
        "targets = summary_tokenizer.texts_to_sequences(summary)"
      ],
      "execution_count": null,
      "outputs": []
    },
    {
      "cell_type": "code",
      "metadata": {
        "colab": {
          "base_uri": "https://localhost:8080/"
        },
        "id": "KoizyBvLKv8h",
        "outputId": "5af16745-2526-426f-c441-aac19266e661"
      },
      "source": [
        "encoder_vocab_size = len(document_tokenizer.word_index) + 1\n",
        "decoder_vocab_size = len(summary_tokenizer.word_index) + 1\n",
        "\n",
        "# vocab_size\n",
        "encoder_vocab_size, decoder_vocab_size"
      ],
      "execution_count": null,
      "outputs": [
        {
          "output_type": "execute_result",
          "data": {
            "text/plain": [
              "(76362, 29661)"
            ]
          },
          "metadata": {
            "tags": []
          },
          "execution_count": 27
        }
      ]
    },
    {
      "cell_type": "markdown",
      "metadata": {
        "id": "mZden_q9_eZr"
      },
      "source": [
        "#### Obtaining insights on lengths for defining maxlen"
      ]
    },
    {
      "cell_type": "code",
      "metadata": {
        "id": "ma4o2nGdK5Xb"
      },
      "source": [
        "document_lengths = pd.Series([len(x) for x in document])\n",
        "summary_lengths = pd.Series([len(x) for x in summary])"
      ],
      "execution_count": null,
      "outputs": []
    },
    {
      "cell_type": "code",
      "metadata": {
        "colab": {
          "base_uri": "https://localhost:8080/"
        },
        "id": "iXZlO99C-UXK",
        "outputId": "93d9a959-d339-4b7e-c2c3-4654900c1bb4"
      },
      "source": [
        "document_lengths.describe()"
      ],
      "execution_count": null,
      "outputs": [
        {
          "output_type": "execute_result",
          "data": {
            "text/plain": [
              "count    55104.000000\n",
              "mean       368.003049\n",
              "std         26.235510\n",
              "min        280.000000\n",
              "25%        350.000000\n",
              "50%        369.000000\n",
              "75%        387.000000\n",
              "max        469.000000\n",
              "dtype: float64"
            ]
          },
          "metadata": {
            "tags": []
          },
          "execution_count": 29
        }
      ]
    },
    {
      "cell_type": "code",
      "metadata": {
        "colab": {
          "base_uri": "https://localhost:8080/"
        },
        "id": "ALMwKMx--ZF7",
        "outputId": "343e6f48-3c0b-41a7-a443-81856668c14b"
      },
      "source": [
        "summary_lengths.describe()"
      ],
      "execution_count": null,
      "outputs": [
        {
          "output_type": "execute_result",
          "data": {
            "text/plain": [
              "count    55104.000000\n",
              "mean        63.620282\n",
              "std          7.267463\n",
              "min         20.000000\n",
              "25%         59.000000\n",
              "50%         63.000000\n",
              "75%         69.000000\n",
              "max         96.000000\n",
              "dtype: float64"
            ]
          },
          "metadata": {
            "tags": []
          },
          "execution_count": 30
        }
      ]
    },
    {
      "cell_type": "code",
      "metadata": {
        "colab": {
          "base_uri": "https://localhost:8080/",
          "height": 323
        },
        "id": "kq3XYQCVabuS",
        "outputId": "d3290476-b849-4de7-f985-7547b2080f58"
      },
      "source": [
        "# Print bin sizes and display min and max lenghts of data.\n",
        "import numpy as np\n",
        "\n",
        "bins = pd.DataFrame()\n",
        "bin_split = [0,128,256,512,1024]\n",
        "all_data = pd.concat([news], axis=0)\n",
        "input_binned = all_data.groupby(pd.cut(document_lengths, bins=bin_split)).size()\n",
        "output_binned = all_data.groupby(pd.cut(summary_lengths, bins=bin_split)).size()\n",
        "bins['num_input'] = input_binned\n",
        "bins['num_output'] = output_binned\n",
        "bins.index.name = 'Bins'\n",
        "\n",
        "avg_in, avg_out = document_lengths.mean(), summary_lengths.mean()\n",
        "min_in, min_out = document_lengths.min(), summary_lengths.min()\n",
        "max_in, max_out = document_lengths.max(), summary_lengths.max()\n",
        "bins['fraction_input'] = bins.num_input/bins.num_input.sum()\n",
        "bins['fraction_output'] = bins.num_output/bins.num_output.sum()\n",
        "bins['cum_fraction_input'] = bins.fraction_input.cumsum()\n",
        "bins['cum_fraction_output'] = bins.fraction_output.cumsum()\n",
        "display(bins)\n",
        "print(f'Average len input: {avg_in:.2f}\\n' \\\n",
        "      f'Average len output: {avg_out:.2f}\\n' \\\n",
        "      f'Max len input: {max_in}\\n' \\\n",
        "      f'Max len output: {max_out}\\n' \\\n",
        "      f'Min len input: {min_in}\\n' \\\n",
        "      f'Min len output: {min_out}\\n')"
      ],
      "execution_count": null,
      "outputs": [
        {
          "output_type": "display_data",
          "data": {
            "text/html": [
              "<div>\n",
              "<style scoped>\n",
              "    .dataframe tbody tr th:only-of-type {\n",
              "        vertical-align: middle;\n",
              "    }\n",
              "\n",
              "    .dataframe tbody tr th {\n",
              "        vertical-align: top;\n",
              "    }\n",
              "\n",
              "    .dataframe thead th {\n",
              "        text-align: right;\n",
              "    }\n",
              "</style>\n",
              "<table border=\"1\" class=\"dataframe\">\n",
              "  <thead>\n",
              "    <tr style=\"text-align: right;\">\n",
              "      <th></th>\n",
              "      <th>num_input</th>\n",
              "      <th>num_output</th>\n",
              "      <th>fraction_input</th>\n",
              "      <th>fraction_output</th>\n",
              "      <th>cum_fraction_input</th>\n",
              "      <th>cum_fraction_output</th>\n",
              "    </tr>\n",
              "    <tr>\n",
              "      <th>Bins</th>\n",
              "      <th></th>\n",
              "      <th></th>\n",
              "      <th></th>\n",
              "      <th></th>\n",
              "      <th></th>\n",
              "      <th></th>\n",
              "    </tr>\n",
              "  </thead>\n",
              "  <tbody>\n",
              "    <tr>\n",
              "      <th>(0, 128]</th>\n",
              "      <td>0</td>\n",
              "      <td>55104</td>\n",
              "      <td>0.0</td>\n",
              "      <td>1.0</td>\n",
              "      <td>0.0</td>\n",
              "      <td>1.0</td>\n",
              "    </tr>\n",
              "    <tr>\n",
              "      <th>(128, 256]</th>\n",
              "      <td>0</td>\n",
              "      <td>0</td>\n",
              "      <td>0.0</td>\n",
              "      <td>0.0</td>\n",
              "      <td>0.0</td>\n",
              "      <td>1.0</td>\n",
              "    </tr>\n",
              "    <tr>\n",
              "      <th>(256, 512]</th>\n",
              "      <td>55104</td>\n",
              "      <td>0</td>\n",
              "      <td>1.0</td>\n",
              "      <td>0.0</td>\n",
              "      <td>1.0</td>\n",
              "      <td>1.0</td>\n",
              "    </tr>\n",
              "    <tr>\n",
              "      <th>(512, 1024]</th>\n",
              "      <td>0</td>\n",
              "      <td>0</td>\n",
              "      <td>0.0</td>\n",
              "      <td>0.0</td>\n",
              "      <td>1.0</td>\n",
              "      <td>1.0</td>\n",
              "    </tr>\n",
              "  </tbody>\n",
              "</table>\n",
              "</div>"
            ],
            "text/plain": [
              "             num_input  num_output  ...  cum_fraction_input  cum_fraction_output\n",
              "Bins                                ...                                         \n",
              "(0, 128]             0       55104  ...                 0.0                  1.0\n",
              "(128, 256]           0           0  ...                 0.0                  1.0\n",
              "(256, 512]       55104           0  ...                 1.0                  1.0\n",
              "(512, 1024]          0           0  ...                 1.0                  1.0\n",
              "\n",
              "[4 rows x 6 columns]"
            ]
          },
          "metadata": {
            "tags": []
          }
        },
        {
          "output_type": "stream",
          "text": [
            "Average len input: 368.00\n",
            "Average len output: 63.62\n",
            "Max len input: 469\n",
            "Max len output: 96\n",
            "Min len input: 280\n",
            "Min len output: 20\n",
            "\n"
          ],
          "name": "stdout"
        }
      ]
    },
    {
      "cell_type": "code",
      "metadata": {
        "colab": {
          "base_uri": "https://localhost:8080/",
          "height": 635
        },
        "id": "q2uQ5XiNacGE",
        "outputId": "97088138-2a36-4fa1-b2fb-55665d0fa00e"
      },
      "source": [
        "%matplotlib inline\n",
        "%config InlineBackend.figure_format = 'retina'\n",
        "from matplotlib.ticker import PercentFormatter\n",
        "from matplotlib.ticker import FuncFormatter\n",
        "\n",
        "import matplotlib.pyplot as plt\n",
        "import matplotlib as mlt\n",
        "colors = ['#3498db', '#FF8C00']\n",
        "\n",
        "fig, ax = plt.subplots(2,1, figsize=(10,8))\n",
        "print(fig)\n",
        "for i, a in enumerate(ax):\n",
        "    print(i)\n",
        "    a.spines['top'].set_visible(False)\n",
        "    a.spines['right'].set_visible(False)\n",
        "    a.set_ylabel('Fraction (‰)', fontsize=15)\n",
        "    a.tick_params(labelsize=15)\n",
        "    a.yaxis.set_major_formatter(FuncFormatter(lambda x, pos: \"%.1f\" % (x*1000)))\n",
        "\n",
        "ax[0].hist(document_lengths, bins=range(0,1000,12), density=True, \\\n",
        "           label='input', alpha=0.6, color=colors[0], edgecolor='black')\n",
        "ax[0].set_xticks(range(0,1000,200))\n",
        "ax[0].set_xlim(right=1000, left=0)\n",
        "ax[0].set_xlabel('Input Length', fontsize=15)\n",
        "\n",
        "ax[1].hist(summary_lengths, bins=range(0,256,2), density=True, \\\n",
        "           label='targets', alpha=0.6, color=colors[1], edgecolor='black')\n",
        "ax[1].set_xlim(right=170, left=0)\n",
        "ax[1].set_xticks(range(0,160,32))\n",
        "ax[1].set_xlabel('Target Length', fontsize=15)\n",
        "\n",
        "fig.tight_layout()\n",
        "plt.savefig('data_histogram_1.jpg')\n"
      ],
      "execution_count": null,
      "outputs": [
        {
          "output_type": "stream",
          "text": [
            "Figure(720x576)\n",
            "0\n",
            "1\n"
          ],
          "name": "stdout"
        },
        {
          "output_type": "display_data",
          "data": {
            "image/png": "[encoded data removed]",
            "text/plain": [
              "<Figure size 720x576 with 2 Axes>"
            ]
          },
          "metadata": {
            "tags": [],
            "image/png": {
              "height": 567,
              "width": 712
            }
          }
        }
      ]
    },
    {
      "cell_type": "code",
      "metadata": {
        "id": "cVeMilXr-bpC"
      },
      "source": [
        "encoder_maxlen = 400\n",
        "decoder_maxlen = 75"
      ],
      "execution_count": null,
      "outputs": []
    },
    {
      "cell_type": "markdown",
      "metadata": {
        "id": "_SWap3YJBk-D"
      },
      "source": [
        "#### Padding/Truncating sequences for identical sequence lengths"
      ]
    },
    {
      "cell_type": "code",
      "metadata": {
        "id": "vEyUBeu7ACRt"
      },
      "source": [
        "inputs = tf.keras.preprocessing.sequence.pad_sequences(inputs, maxlen=encoder_maxlen, padding='post', truncating='post')\n",
        "targets = tf.keras.preprocessing.sequence.pad_sequences(targets, maxlen=decoder_maxlen, padding='post', truncating='post')"
      ],
      "execution_count": null,
      "outputs": []
    },
    {
      "cell_type": "markdown",
      "metadata": {
        "id": "wIP0kIIcB8Rm"
      },
      "source": [
        "### Creating dataset pipeline"
      ]
    },
    {
      "cell_type": "code",
      "metadata": {
        "id": "LzO6l3-AB7hJ"
      },
      "source": [
        "inputs = tf.cast(inputs, dtype=tf.int32)\n",
        "targets = tf.cast(targets, dtype=tf.int32)"
      ],
      "execution_count": null,
      "outputs": []
    },
    {
      "cell_type": "code",
      "metadata": {
        "id": "slZ5f4P4DurS"
      },
      "source": [
        "BUFFER_SIZE = 20000\n",
        "BATCH_SIZE = 64"
      ],
      "execution_count": null,
      "outputs": []
    },
    {
      "cell_type": "code",
      "metadata": {
        "id": "wI-fV7eABWN6"
      },
      "source": [
        "dataset = tf.data.Dataset.from_tensor_slices((inputs, targets)).shuffle(BUFFER_SIZE).batch(BATCH_SIZE)"
      ],
      "execution_count": null,
      "outputs": []
    },
    {
      "cell_type": "markdown",
      "metadata": {
        "id": "isN1CpAXLfsl"
      },
      "source": [
        "### Positional Encoding for adding notion of position among words as unlike RNN this is non-directional"
      ]
    },
    {
      "cell_type": "code",
      "metadata": {
        "id": "Purv7oyhETDZ"
      },
      "source": [
        "def get_angles(position, i, d_model):\n",
        "    angle_rates = 1 / np.power(10000, (2 * (i // 2)) / np.float32(d_model))\n",
        "    return position * angle_rates"
      ],
      "execution_count": null,
      "outputs": []
    },
    {
      "cell_type": "code",
      "metadata": {
        "id": "40J2pc2NEXp5"
      },
      "source": [
        "def positional_encoding(position, d_model):\n",
        "    angle_rads = get_angles(\n",
        "        np.arange(position)[:, np.newaxis],\n",
        "        np.arange(d_model)[np.newaxis, :],\n",
        "        d_model\n",
        "    )\n",
        "\n",
        "    # apply sin to even indices in the array; 2i\n",
        "    angle_rads[:, 0::2] = np.sin(angle_rads[:, 0::2])\n",
        "\n",
        "    # apply cos to odd indices in the array; 2i+1\n",
        "    angle_rads[:, 1::2] = np.cos(angle_rads[:, 1::2])\n",
        "\n",
        "    pos_encoding = angle_rads[np.newaxis, ...]\n",
        "\n",
        "    return tf.cast(pos_encoding, dtype=tf.float32)\n"
      ],
      "execution_count": null,
      "outputs": []
    },
    {
      "cell_type": "markdown",
      "metadata": {
        "id": "24Pe01DMMWHc"
      },
      "source": [
        "### Masking\n",
        "\n",
        "- Padding mask for masking \"pad\" sequences\n",
        "- Lookahead mask for masking future words from contributing in prediction of current words in self attention"
      ]
    },
    {
      "cell_type": "code",
      "metadata": {
        "id": "hN1wVQAdMVYy"
      },
      "source": [
        "def create_padding_mask(seq):\n",
        "    seq = tf.cast(tf.math.equal(seq, 0), tf.float32)\n",
        "    return seq[:, tf.newaxis, tf.newaxis, :]"
      ],
      "execution_count": null,
      "outputs": []
    },
    {
      "cell_type": "code",
      "metadata": {
        "id": "UmjAPLWuMREE"
      },
      "source": [
        "def create_look_ahead_mask(size):\n",
        "    mask = 1 - tf.linalg.band_part(tf.ones((size, size)), -1, 0)\n",
        "    return mask"
      ],
      "execution_count": null,
      "outputs": []
    },
    {
      "cell_type": "markdown",
      "metadata": {
        "id": "n8DqUBc4NFOy"
      },
      "source": [
        "### Building the Model"
      ]
    },
    {
      "cell_type": "markdown",
      "metadata": {
        "id": "WfknVF7hNKf7"
      },
      "source": [
        "#### Scaled Dot Product"
      ]
    },
    {
      "cell_type": "code",
      "metadata": {
        "id": "w_B6M9OBNBKB"
      },
      "source": [
        "def scaled_dot_product_attention(q, k, v, mask):\n",
        "    matmul_qk = tf.matmul(q, k, transpose_b=True)\n",
        "\n",
        "    dk = tf.cast(tf.shape(k)[-1], tf.float32)\n",
        "    scaled_attention_logits = matmul_qk / tf.math.sqrt(dk)\n",
        "\n",
        "    if mask is not None:\n",
        "        scaled_attention_logits += (mask * -1e9)  \n",
        "\n",
        "    attention_weights = tf.nn.softmax(scaled_attention_logits, axis=-1)\n",
        "\n",
        "    output = tf.matmul(attention_weights, v)\n",
        "    return output, attention_weights"
      ],
      "execution_count": null,
      "outputs": []
    },
    {
      "cell_type": "markdown",
      "metadata": {
        "id": "Rf7_a5uQOfJk"
      },
      "source": [
        "#### Multi-Headed Attention"
      ]
    },
    {
      "cell_type": "code",
      "metadata": {
        "id": "iIuFrdXnNZEC"
      },
      "source": [
        "class MultiHeadAttention(tf.keras.layers.Layer):\n",
        "    def __init__(self, d_model, num_heads):\n",
        "        super(MultiHeadAttention, self).__init__()\n",
        "        self.num_heads = num_heads\n",
        "        self.d_model = d_model\n",
        "\n",
        "        assert d_model % self.num_heads == 0\n",
        "\n",
        "        self.depth = d_model // self.num_heads\n",
        "\n",
        "        self.wq = tf.keras.layers.Dense(d_model)\n",
        "        self.wk = tf.keras.layers.Dense(d_model)\n",
        "        self.wv = tf.keras.layers.Dense(d_model)\n",
        "\n",
        "        self.dense = tf.keras.layers.Dense(d_model)\n",
        "        \n",
        "    def split_heads(self, x, batch_size):\n",
        "        x = tf.reshape(x, (batch_size, -1, self.num_heads, self.depth))\n",
        "        return tf.transpose(x, perm=[0, 2, 1, 3])\n",
        "    \n",
        "    def call(self, v, k, q, mask):\n",
        "        batch_size = tf.shape(q)[0]\n",
        "\n",
        "        q = self.wq(q)\n",
        "        k = self.wk(k)\n",
        "        v = self.wv(v)\n",
        "\n",
        "        q = self.split_heads(q, batch_size)\n",
        "        k = self.split_heads(k, batch_size)\n",
        "        v = self.split_heads(v, batch_size)\n",
        "\n",
        "        scaled_attention, attention_weights = scaled_dot_product_attention(\n",
        "            q, k, v, mask)\n",
        "\n",
        "        scaled_attention = tf.transpose(scaled_attention, perm=[0, 2, 1, 3])\n",
        "\n",
        "        concat_attention = tf.reshape(scaled_attention, (batch_size, -1, self.d_model))\n",
        "        output = self.dense(concat_attention)\n",
        "            \n",
        "        return output, attention_weights"
      ],
      "execution_count": null,
      "outputs": []
    },
    {
      "cell_type": "markdown",
      "metadata": {
        "id": "A49tXMVvOkOZ"
      },
      "source": [
        "### Feed Forward Network"
      ]
    },
    {
      "cell_type": "code",
      "metadata": {
        "id": "d9-qoKuTNwKq"
      },
      "source": [
        "def point_wise_feed_forward_network(d_model, dff):\n",
        "    return tf.keras.Sequential([\n",
        "        tf.keras.layers.Dense(dff, activation='relu'),\n",
        "        tf.keras.layers.Dense(d_model)\n",
        "         ])"
      ],
      "execution_count": null,
      "outputs": []
    },
    {
      "cell_type": "markdown",
      "metadata": {
        "id": "B2RRmn2bOpW9"
      },
      "source": [
        "#### Fundamental Unit of Transformer encoder"
      ]
    },
    {
      "cell_type": "code",
      "metadata": {
        "id": "HNuoJoFWO335"
      },
      "source": [
        "class EncoderLayer(tf.keras.layers.Layer):\n",
        "    def __init__(self, d_model, num_heads, dff, rate=0.1):\n",
        "        super(EncoderLayer, self).__init__()\n",
        "\n",
        "        self.mha = MultiHeadAttention(d_model, num_heads)\n",
        "        self.ffn = point_wise_feed_forward_network(d_model, dff)\n",
        "\n",
        "        self.layernorm1 = tf.keras.layers.LayerNormalization(epsilon=1e-6)\n",
        "        self.layernorm2 = tf.keras.layers.LayerNormalization(epsilon=1e-6)\n",
        "\n",
        "        self.dropout1 = tf.keras.layers.Dropout(rate)\n",
        "        self.dropout2 = tf.keras.layers.Dropout(rate)\n",
        "    \n",
        "    def call(self, x, training, mask):\n",
        "        attn_output, _ = self.mha(x, x, x, mask)\n",
        "        attn_output = self.dropout1(attn_output, training=training)\n",
        "        out1 = self.layernorm1(x + attn_output)\n",
        "\n",
        "        ffn_output = self.ffn(out1)\n",
        "        ffn_output = self.dropout2(ffn_output, training=training)\n",
        "        out2 = self.layernorm2(out1 + ffn_output)\n",
        "\n",
        "        return out2\n"
      ],
      "execution_count": null,
      "outputs": []
    },
    {
      "cell_type": "markdown",
      "metadata": {
        "id": "9i6Zh8gnPqdW"
      },
      "source": [
        "#### Fundamental Unit of Transformer decoder"
      ]
    },
    {
      "cell_type": "code",
      "metadata": {
        "id": "7CVmvs6dPMRC"
      },
      "source": [
        "class DecoderLayer(tf.keras.layers.Layer):\n",
        "    def __init__(self, d_model, num_heads, dff, rate=0.1):\n",
        "        super(DecoderLayer, self).__init__()\n",
        "\n",
        "        self.mha1 = MultiHeadAttention(d_model, num_heads)\n",
        "        self.mha2 = MultiHeadAttention(d_model, num_heads)\n",
        "\n",
        "        self.ffn = point_wise_feed_forward_network(d_model, dff)\n",
        "\n",
        "        self.layernorm1 = tf.keras.layers.LayerNormalization(epsilon=1e-6)\n",
        "        self.layernorm2 = tf.keras.layers.LayerNormalization(epsilon=1e-6)\n",
        "        self.layernorm3 = tf.keras.layers.LayerNormalization(epsilon=1e-6)\n",
        "\n",
        "        self.dropout1 = tf.keras.layers.Dropout(rate)\n",
        "        self.dropout2 = tf.keras.layers.Dropout(rate)\n",
        "        self.dropout3 = tf.keras.layers.Dropout(rate)\n",
        "    \n",
        "    \n",
        "    def call(self, x, enc_output, training, look_ahead_mask, padding_mask):\n",
        "        attn1, attn_weights_block1 = self.mha1(x, x, x, look_ahead_mask)\n",
        "        attn1 = self.dropout1(attn1, training=training)\n",
        "        out1 = self.layernorm1(attn1 + x)\n",
        "\n",
        "        attn2, attn_weights_block2 = self.mha2(enc_output, enc_output, out1, padding_mask)\n",
        "        attn2 = self.dropout2(attn2, training=training)\n",
        "        out2 = self.layernorm2(attn2 + out1)\n",
        "\n",
        "        ffn_output = self.ffn(out2)\n",
        "        ffn_output = self.dropout3(ffn_output, training=training)\n",
        "        out3 = self.layernorm3(ffn_output + out2)\n",
        "\n",
        "        return out3, attn_weights_block1, attn_weights_block2\n"
      ],
      "execution_count": null,
      "outputs": []
    },
    {
      "cell_type": "markdown",
      "metadata": {
        "id": "6zt5MUc_QNid"
      },
      "source": [
        "#### Encoder consisting of multiple EncoderLayer(s)"
      ]
    },
    {
      "cell_type": "code",
      "metadata": {
        "id": "BrbnTwijQJ-h"
      },
      "source": [
        "class Encoder(tf.keras.layers.Layer):\n",
        "    def __init__(self, num_layers, d_model, num_heads, dff, input_vocab_size, maximum_position_encoding, rate=0.1):\n",
        "        super(Encoder, self).__init__()\n",
        "\n",
        "        self.d_model = d_model\n",
        "        self.num_layers = num_layers\n",
        "\n",
        "        self.embedding = tf.keras.layers.Embedding(input_vocab_size, d_model)\n",
        "        self.pos_encoding = positional_encoding(maximum_position_encoding, self.d_model)\n",
        "\n",
        "        self.enc_layers = [EncoderLayer(d_model, num_heads, dff, rate) for _ in range(num_layers)]\n",
        "\n",
        "        self.dropout = tf.keras.layers.Dropout(rate)\n",
        "        \n",
        "    def call(self, x, training, mask):\n",
        "        seq_len = tf.shape(x)[1]\n",
        "\n",
        "        x = self.embedding(x)\n",
        "        x *= tf.math.sqrt(tf.cast(self.d_model, tf.float32))\n",
        "        x += self.pos_encoding[:, :seq_len, :]\n",
        "\n",
        "        x = self.dropout(x, training=training)\n",
        "    \n",
        "        for i in range(self.num_layers):\n",
        "            x = self.enc_layers[i](x, training, mask)\n",
        "    \n",
        "        return x\n"
      ],
      "execution_count": null,
      "outputs": []
    },
    {
      "cell_type": "markdown",
      "metadata": {
        "id": "4N5LrNrvRexg"
      },
      "source": [
        "#### Decoder consisting of multiple DecoderLayer(s)"
      ]
    },
    {
      "cell_type": "code",
      "metadata": {
        "id": "UmeqkZrIRbSB"
      },
      "source": [
        "class Decoder(tf.keras.layers.Layer):\n",
        "    def __init__(self, num_layers, d_model, num_heads, dff, target_vocab_size, maximum_position_encoding, rate=0.1):\n",
        "        super(Decoder, self).__init__()\n",
        "\n",
        "        self.d_model = d_model\n",
        "        self.num_layers = num_layers\n",
        "\n",
        "        self.embedding = tf.keras.layers.Embedding(target_vocab_size, d_model)\n",
        "        self.pos_encoding = positional_encoding(maximum_position_encoding, d_model)\n",
        "\n",
        "        self.dec_layers = [DecoderLayer(d_model, num_heads, dff, rate) for _ in range(num_layers)]\n",
        "        self.dropout = tf.keras.layers.Dropout(rate)\n",
        "    \n",
        "    def call(self, x, enc_output, training, look_ahead_mask, padding_mask):\n",
        "        seq_len = tf.shape(x)[1]\n",
        "        attention_weights = {}\n",
        "\n",
        "        x = self.embedding(x)\n",
        "        x *= tf.math.sqrt(tf.cast(self.d_model, tf.float32))\n",
        "        x += self.pos_encoding[:, :seq_len, :]\n",
        "\n",
        "        x = self.dropout(x, training=training)\n",
        "\n",
        "        for i in range(self.num_layers):\n",
        "            x, block1, block2 = self.dec_layers[i](x, enc_output, training, look_ahead_mask, padding_mask)\n",
        "\n",
        "            attention_weights['decoder_layer{}_block1'.format(i+1)] = block1\n",
        "            attention_weights['decoder_layer{}_block2'.format(i+1)] = block2\n",
        "    \n",
        "        return x, attention_weights\n"
      ],
      "execution_count": null,
      "outputs": []
    },
    {
      "cell_type": "markdown",
      "metadata": {
        "id": "lbMNK_bzSHnh"
      },
      "source": [
        "#### Finally, the Transformer"
      ]
    },
    {
      "cell_type": "code",
      "metadata": {
        "id": "FXHRG-o4R9Mc"
      },
      "source": [
        "class Transformer(tf.keras.Model):\n",
        "    def __init__(self, num_layers, d_model, num_heads, dff, input_vocab_size, target_vocab_size, pe_input, pe_target, rate=0.1):\n",
        "        super(Transformer, self).__init__()\n",
        "\n",
        "        self.encoder = Encoder(num_layers, d_model, num_heads, dff, input_vocab_size, pe_input, rate)\n",
        "\n",
        "        self.decoder = Decoder(num_layers, d_model, num_heads, dff, target_vocab_size, pe_target, rate)\n",
        "\n",
        "        self.final_layer = tf.keras.layers.Dense(target_vocab_size)\n",
        "    \n",
        "    def call(self, inp, tar, training, enc_padding_mask, look_ahead_mask, dec_padding_mask):\n",
        "        enc_output = self.encoder(inp, training, enc_padding_mask)\n",
        "\n",
        "        dec_output, attention_weights = self.decoder(tar, enc_output, training, look_ahead_mask, dec_padding_mask)\n",
        "\n",
        "        final_output = self.final_layer(dec_output)\n",
        "\n",
        "        return final_output, attention_weights\n"
      ],
      "execution_count": null,
      "outputs": []
    },
    {
      "cell_type": "markdown",
      "metadata": {
        "id": "UndsMPZXTdSr"
      },
      "source": [
        "### Training"
      ]
    },
    {
      "cell_type": "code",
      "metadata": {
        "id": "lMTZJdIoSbuy"
      },
      "source": [
        "# hyper-params\n",
        "num_layers = 4\n",
        "d_model = 128\n",
        "dff = 512\n",
        "num_heads = 8\n",
        "EPOCHS = 40"
      ],
      "execution_count": null,
      "outputs": []
    },
    {
      "cell_type": "markdown",
      "metadata": {
        "id": "uOGvkYDNTjIj"
      },
      "source": [
        "#### Adam optimizer with custom learning rate scheduling"
      ]
    },
    {
      "cell_type": "code",
      "metadata": {
        "id": "tfiynCLlTL8C"
      },
      "source": [
        "class CustomSchedule(tf.keras.optimizers.schedules.LearningRateSchedule):\n",
        "    def __init__(self, d_model, warmup_steps=4000):\n",
        "        super(CustomSchedule, self).__init__()\n",
        "\n",
        "        self.d_model = d_model\n",
        "        self.d_model = tf.cast(self.d_model, tf.float32)\n",
        "\n",
        "        self.warmup_steps = warmup_steps\n",
        "    \n",
        "    def __call__(self, step):\n",
        "        arg1 = tf.math.rsqrt(step)\n",
        "        arg2 = step * (self.warmup_steps ** -1.5)\n",
        "\n",
        "        return tf.math.rsqrt(self.d_model) * tf.math.minimum(arg1, arg2)\n"
      ],
      "execution_count": null,
      "outputs": []
    },
    {
      "cell_type": "markdown",
      "metadata": {
        "id": "DsVdrENTUERY"
      },
      "source": [
        "#### Defining losses and other metrics "
      ]
    },
    {
      "cell_type": "code",
      "metadata": {
        "id": "Ip1-943kTXXK"
      },
      "source": [
        "learning_rate = CustomSchedule(d_model)\n",
        "\n",
        "optimizer = tf.keras.optimizers.Adam(learning_rate, beta_1=0.9, beta_2=0.98, epsilon=1e-9)"
      ],
      "execution_count": null,
      "outputs": []
    },
    {
      "cell_type": "code",
      "metadata": {
        "id": "ktKwyvKtTvF6"
      },
      "source": [
        "loss_object = tf.keras.losses.SparseCategoricalCrossentropy(from_logits=True, reduction='none')"
      ],
      "execution_count": null,
      "outputs": []
    },
    {
      "cell_type": "code",
      "metadata": {
        "id": "uW4LA_45T4Aa"
      },
      "source": [
        "def loss_function(real, pred):\n",
        "    mask = tf.math.logical_not(tf.math.equal(real, 0))\n",
        "    loss_ = loss_object(real, pred)\n",
        "\n",
        "    mask = tf.cast(mask, dtype=loss_.dtype)\n",
        "    loss_ *= mask\n",
        "\n",
        "    return tf.reduce_sum(loss_)/tf.reduce_sum(mask)\n"
      ],
      "execution_count": null,
      "outputs": []
    },
    {
      "cell_type": "code",
      "metadata": {
        "id": "Ze0u6xxXT7dI"
      },
      "source": [
        "train_loss = tf.keras.metrics.Mean(name='train_loss')"
      ],
      "execution_count": null,
      "outputs": []
    },
    {
      "cell_type": "markdown",
      "metadata": {
        "id": "9XvKy3v6ULnO"
      },
      "source": [
        "#### Transformer"
      ]
    },
    {
      "cell_type": "code",
      "metadata": {
        "id": "d5-RcxqFUCuk"
      },
      "source": [
        "transformer = Transformer(\n",
        "    num_layers, \n",
        "    d_model, \n",
        "    num_heads, \n",
        "    dff,\n",
        "    encoder_vocab_size, \n",
        "    decoder_vocab_size, \n",
        "    pe_input=encoder_vocab_size, \n",
        "    pe_target=decoder_vocab_size,\n",
        ")"
      ],
      "execution_count": null,
      "outputs": []
    },
    {
      "cell_type": "markdown",
      "metadata": {
        "id": "f56BGiVXU_Dk"
      },
      "source": [
        "#### Masks"
      ]
    },
    {
      "cell_type": "code",
      "metadata": {
        "id": "FZxHuyZxU5Pa"
      },
      "source": [
        "def create_masks(inp, tar):\n",
        "    enc_padding_mask = create_padding_mask(inp)\n",
        "    dec_padding_mask = create_padding_mask(inp)\n",
        "\n",
        "    look_ahead_mask = create_look_ahead_mask(tf.shape(tar)[1])\n",
        "    dec_target_padding_mask = create_padding_mask(tar)\n",
        "    combined_mask = tf.maximum(dec_target_padding_mask, look_ahead_mask)\n",
        "  \n",
        "    return enc_padding_mask, combined_mask, dec_padding_mask\n"
      ],
      "execution_count": null,
      "outputs": []
    },
    {
      "cell_type": "markdown",
      "metadata": {
        "id": "SYIotvaBVI0d"
      },
      "source": [
        "#### Checkpoints"
      ]
    },
    {
      "cell_type": "code",
      "metadata": {
        "colab": {
          "base_uri": "https://localhost:8080/"
        },
        "id": "tOc1_3c-VGaL",
        "outputId": "ecae6e47-bf7c-42a2-e600-e3572bde8d1a"
      },
      "source": [
        "checkpoint_path = \"/content/drive/MyDrive/checkpoints news/checkpoints 20\"\n",
        "\n",
        "ckpt = tf.train.Checkpoint(transformer=transformer, optimizer=optimizer)\n",
        "\n",
        "ckpt_manager = tf.train.CheckpointManager(ckpt, checkpoint_path, max_to_keep=5)\n",
        "\n",
        "if ckpt_manager.latest_checkpoint:\n",
        "    ckpt.restore(ckpt_manager.latest_checkpoint)\n",
        "    print(ckpt_manager.latest_checkpoint)"
      ],
      "execution_count": null,
      "outputs": [
        {
          "output_type": "stream",
          "text": [
            "/content/drive/MyDrive/checkpoints news/checkpoints 20/ckpt-4\n"
          ],
          "name": "stdout"
        }
      ]
    },
    {
      "cell_type": "markdown",
      "metadata": {
        "id": "WfpI0gS4c06c"
      },
      "source": [
        "#### Training steps"
      ]
    },
    {
      "cell_type": "code",
      "metadata": {
        "id": "xmVOMzkrczgl"
      },
      "source": [
        "@tf.function\n",
        "def train_step(inp, tar):\n",
        "    tar_inp = tar[:, :-1]\n",
        "    tar_real = tar[:, 1:]\n",
        "\n",
        "    enc_padding_mask, combined_mask, dec_padding_mask = create_masks(inp, tar_inp)\n",
        "\n",
        "    with tf.GradientTape() as tape:\n",
        "        predictions, _ = transformer(\n",
        "            inp, tar_inp, \n",
        "            True, \n",
        "            enc_padding_mask, \n",
        "            combined_mask, \n",
        "            dec_padding_mask\n",
        "        )\n",
        "        loss = loss_function(tar_real, predictions)\n",
        "\n",
        "    gradients = tape.gradient(loss, transformer.trainable_variables)    \n",
        "    optimizer.apply_gradients(zip(gradients, transformer.trainable_variables))\n",
        "\n",
        "    train_loss(loss)"
      ],
      "execution_count": null,
      "outputs": []
    },
    {
      "cell_type": "code",
      "metadata": {
        "id": "SjWETjqo8AE_"
      },
      "source": [
        "lob_2=[]\n",
        "lob_1=[]"
      ],
      "execution_count": null,
      "outputs": []
    },
    {
      "cell_type": "code",
      "metadata": {
        "id": "cb50lFRv7BKX"
      },
      "source": [
        "EPOCHS=10"
      ],
      "execution_count": null,
      "outputs": []
    },
    {
      "cell_type": "code",
      "metadata": {
        "colab": {
          "base_uri": "https://localhost:8080/"
        },
        "id": "xjQoiHVRQ4jB",
        "outputId": "3780c863-71a9-4ca9-8a7c-d09301e441ca"
      },
      "source": [
        "for epoch in range(EPOCHS):\n",
        "    start = time.time()\n",
        "\n",
        "    train_loss.reset_states()\n",
        "  \n",
        "    for (batch, (inp, tar)) in enumerate(dataset):\n",
        "        train_step(inp, tar)\n",
        "    \n",
        "        if batch % 429 == 0:\n",
        "            print ('Epoch {} Batch {} Loss {:.4f}'.format(epoch + 1, batch, train_loss.result()))\n",
        "            lob_2.append(' {:.4f}'.format( train_loss.result()))\n",
        "            lob_1.append(epoch+1)\n",
        "      \n",
        "    if (epoch + 1) % 5 == 0:\n",
        "        ckpt_save_path = ckpt_manager.save()\n",
        "        print ('Saving checkpoint for epoch {} at {}'.format(epoch+1, ckpt_save_path))\n",
        "    \n",
        "    print ('Epoch {} Loss {:.4f}'.format(epoch + 1, train_loss.result()))\n",
        "    lob_2.append(' {:.4f}'.format( train_loss.result()))\n",
        "    lob_1.append(epoch+1)\n",
        "    print ('Time taken for 1 epoch: {} secs\\n'.format(time.time() - start))"
      ],
      "execution_count": null,
      "outputs": [
        {
          "output_type": "stream",
          "text": [
            "Epoch 1 Batch 0 Loss 10.2920\n",
            "Epoch 1 Batch 429 Loss 9.1990\n",
            "Epoch 1 Batch 858 Loss 8.2416\n",
            "Epoch 1 Loss 8.2387\n",
            "Time taken for 1 epoch: 642.039422750473 secs\n",
            "\n",
            "Epoch 2 Batch 0 Loss 6.9647\n",
            "Epoch 2 Batch 429 Loss 6.8136\n",
            "Epoch 2 Batch 858 Loss 6.6158\n",
            "Epoch 2 Loss 6.6148\n",
            "Time taken for 1 epoch: 633.7860896587372 secs\n",
            "\n",
            "Epoch 3 Batch 0 Loss 6.4424\n",
            "Epoch 3 Batch 429 Loss 6.0943\n",
            "Epoch 3 Batch 858 Loss 5.9539\n",
            "Epoch 3 Loss 5.9533\n",
            "Time taken for 1 epoch: 634.3277747631073 secs\n",
            "\n",
            "Epoch 4 Batch 0 Loss 5.4645\n",
            "Epoch 4 Batch 429 Loss 5.5746\n",
            "Epoch 4 Batch 858 Loss 5.4829\n",
            "Epoch 4 Loss 5.4824\n",
            "Time taken for 1 epoch: 635.0303463935852 secs\n",
            "\n",
            "Epoch 5 Batch 0 Loss 5.4129\n",
            "Epoch 5 Batch 429 Loss 5.1904\n",
            "Epoch 5 Batch 858 Loss 5.1191\n",
            "Saving checkpoint for epoch 5 at checkpoints/ckpt-1\n",
            "Epoch 5 Loss 5.1189\n",
            "Time taken for 1 epoch: 636.3079462051392 secs\n",
            "\n",
            "Epoch 6 Batch 0 Loss 4.7988\n",
            "Epoch 6 Batch 429 Loss 4.8196\n",
            "Epoch 6 Batch 858 Loss 4.7504\n",
            "Epoch 6 Loss 4.7506\n",
            "Time taken for 1 epoch: 636.7544088363647 secs\n",
            "\n",
            "Epoch 7 Batch 0 Loss 4.7771\n",
            "Epoch 7 Batch 429 Loss 4.4540\n",
            "Epoch 7 Batch 858 Loss 4.4174\n",
            "Epoch 7 Loss 4.4176\n",
            "Time taken for 1 epoch: 635.6306385993958 secs\n",
            "\n",
            "Epoch 8 Batch 0 Loss 4.3338\n",
            "Epoch 8 Batch 429 Loss 4.1670\n",
            "Epoch 8 Batch 858 Loss 4.1452\n",
            "Epoch 8 Loss 4.1452\n",
            "Time taken for 1 epoch: 635.4443550109863 secs\n",
            "\n",
            "Epoch 9 Batch 0 Loss 3.9104\n",
            "Epoch 9 Batch 429 Loss 3.9327\n",
            "Epoch 9 Batch 858 Loss 3.9241\n",
            "Epoch 9 Loss 3.9238\n",
            "Time taken for 1 epoch: 636.6793625354767 secs\n",
            "\n",
            "Epoch 10 Batch 0 Loss 3.5213\n",
            "Epoch 10 Batch 429 Loss 3.7490\n",
            "Epoch 10 Batch 858 Loss 3.7472\n",
            "Saving checkpoint for epoch 10 at checkpoints/ckpt-2\n",
            "Epoch 10 Loss 3.7469\n",
            "Time taken for 1 epoch: 637.6258201599121 secs\n",
            "\n"
          ],
          "name": "stdout"
        }
      ]
    },
    {
      "cell_type": "code",
      "metadata": {
        "id": "ommKGgYmY364"
      },
      "source": [
        "#lob2_2=[10.292, 9.199, 8.2416,8.2387, 6.9647, 6.8136, 6.6158,6.6148, 6.4424, 6.0943, 5.9539,5.9533, 5.4645, 5.5746, 5.4829, 5.4824, 5.4129, 5.1904, 5.1191,5.1189, 4.7988, 4.8196, 4.7504,4.7506 ,4.7771, 4.454, 4.4174, 4.4176,4.3338, 4.167, 4.1452,4.1452 ,3.9104, 3.9327, 3.9241,3.9238, 3.5213, 3.749, 3.7472,3.74692.6816, 2.5702, 2.613, 2.6136, 2.4739, 2.5164, 2.553, 2.5533, 2.2846, 2.4573, 2.4962, 2.4968, 2.5375, 2.3985, 2.4461, 2.447, 2.0966, 2.3493, 2.3981, 2.3981]"
      ],
      "execution_count": null,
      "outputs": []
    },
    {
      "cell_type": "code",
      "metadata": {
        "id": "gdAF1sTY7DG_"
      },
      "source": [
        "EPOCHS=5"
      ],
      "execution_count": null,
      "outputs": []
    },
    {
      "cell_type": "code",
      "metadata": {
        "colab": {
          "base_uri": "https://localhost:8080/"
        },
        "id": "TvXFVjd57GJD",
        "outputId": "4b8952cc-d1c1-4a11-bcb1-0a0815944381"
      },
      "source": [
        "for epoch in range(EPOCHS):\n",
        "    start = time.time()\n",
        "\n",
        "    train_loss.reset_states()\n",
        "  \n",
        "    for (batch, (inp, tar)) in enumerate(dataset):\n",
        "        train_step(inp, tar)\n",
        "    \n",
        "        if batch % 429 == 0:\n",
        "            print ('Epoch {} Batch {} Loss {:.4f}'.format(epoch + 1, batch, train_loss.result()))\n",
        "            lob_2.append(' {:.4f}'.format( train_loss.result()))\n",
        "            lob_1.append(epoch+11)\n",
        "      \n",
        "    if (epoch + 1) % 5 == 0:\n",
        "        ckpt_save_path = ckpt_manager.save()\n",
        "        print ('Saving checkpoint for epoch {} at {}'.format(epoch+1, ckpt_save_path))\n",
        "    \n",
        "    print ('Epoch {} Loss {:.4f}'.format(epoch + 1, train_loss.result()))\n",
        "    lob_2.append(' {:.4f}'.format( train_loss.result()))\n",
        "    lob_1.append(epoch+11)\n",
        "    print ('Time taken for 1 epoch: {} secs\\n'.format(time.time() - start))"
      ],
      "execution_count": null,
      "outputs": [
        {
          "output_type": "stream",
          "text": [
            "Epoch 1 Batch 0 Loss 3.3692\n",
            "Epoch 1 Batch 429 Loss 3.5865\n",
            "Epoch 1 Batch 858 Loss 3.5947\n",
            "Epoch 1 Loss 3.5948\n",
            "Time taken for 1 epoch: 635.6579422950745 secs\n",
            "\n",
            "Epoch 2 Batch 0 Loss 3.5657\n",
            "Epoch 2 Batch 429 Loss 3.4384\n",
            "Epoch 2 Batch 858 Loss 3.4536\n",
            "Epoch 2 Loss 3.4537\n",
            "Time taken for 1 epoch: 634.5414414405823 secs\n",
            "\n",
            "Epoch 3 Batch 0 Loss 3.3151\n",
            "Epoch 3 Batch 429 Loss 3.3114\n",
            "Epoch 3 Batch 858 Loss 3.3204\n",
            "Epoch 3 Loss 3.3205\n",
            "Time taken for 1 epoch: 633.8000245094299 secs\n",
            "\n",
            "Epoch 4 Batch 0 Loss 3.0190\n",
            "Epoch 4 Batch 429 Loss 3.1831\n",
            "Epoch 4 Batch 858 Loss 3.2013\n",
            "Epoch 4 Loss 3.2011\n",
            "Time taken for 1 epoch: 633.9748780727386 secs\n",
            "\n",
            "Epoch 5 Batch 0 Loss 2.8964\n",
            "Epoch 5 Batch 429 Loss 3.0671\n",
            "Epoch 5 Batch 858 Loss 3.0938\n",
            "Saving checkpoint for epoch 5 at checkpoints/ckpt-3\n",
            "Epoch 5 Loss 3.0942\n",
            "Time taken for 1 epoch: 635.0129446983337 secs\n",
            "\n"
          ],
          "name": "stdout"
        }
      ]
    },
    {
      "cell_type": "code",
      "metadata": {
        "id": "Y2GYBF4Eq_qr"
      },
      "source": [
        "\n"
      ],
      "execution_count": null,
      "outputs": []
    },
    {
      "cell_type": "code",
      "metadata": {
        "colab": {
          "base_uri": "https://localhost:8080/"
        },
        "id": "jwCK6yECPV5f",
        "outputId": "dc8dd28e-0ca4-41e1-bd98-f05157c53066"
      },
      "source": [
        "len(lob2_2)"
      ],
      "execution_count": null,
      "outputs": [
        {
          "output_type": "execute_result",
          "data": {
            "text/plain": [
              "100"
            ]
          },
          "metadata": {
            "tags": []
          },
          "execution_count": 269
        }
      ]
    },
    {
      "cell_type": "code",
      "metadata": {
        "id": "xQE5pHHz7G8X"
      },
      "source": [
        "EPOCHS=5"
      ],
      "execution_count": null,
      "outputs": []
    },
    {
      "cell_type": "code",
      "metadata": {
        "colab": {
          "base_uri": "https://localhost:8080/"
        },
        "id": "zPeP03u17Hj0",
        "outputId": "3573d08d-c76f-4fc8-a5fc-e68393f8adb9"
      },
      "source": [
        "for epoch in range(EPOCHS):\n",
        "    start = time.time()\n",
        "\n",
        "    train_loss.reset_states()\n",
        "  \n",
        "    for (batch, (inp, tar)) in enumerate(dataset):\n",
        "        train_step(inp, tar)\n",
        "    \n",
        "        if batch % 429 == 0:\n",
        "            print ('Epoch {} Batch {} Loss {:.4f}'.format(epoch + 1, batch, train_loss.result()))\n",
        "            lob_2.append(' {:.4f}'.format( train_loss.result()))\n",
        "            lob_1.append(epoch+15)\n",
        "      \n",
        "    if (epoch + 1) % 5 == 0:\n",
        "        ckpt_save_path = ckpt_manager.save()\n",
        "        print ('Saving checkpoint for epoch {} at {}'.format(epoch+1, ckpt_save_path))\n",
        "    \n",
        "    print ('Epoch {} Loss {:.4f}'.format(epoch + 1, train_loss.result()))\n",
        "    lob_2.append(' {:.4f}'.format( train_loss.result()))\n",
        "    lob_1.append(epoch+15)\n",
        "    print ('Time taken for 1 epoch: {} secs\\n'.format(time.time() - start))"
      ],
      "execution_count": null,
      "outputs": [
        {
          "output_type": "stream",
          "text": [
            "Epoch 1 Batch 0 Loss 3.0377\n",
            "Epoch 1 Batch 429 Loss 2.9675\n",
            "Epoch 1 Batch 858 Loss 2.9932\n",
            "Epoch 1 Loss 2.9932\n",
            "Time taken for 1 epoch: 633.0937693119049 secs\n",
            "\n",
            "Epoch 2 Batch 0 Loss 2.9294\n",
            "Epoch 2 Batch 429 Loss 2.8774\n",
            "Epoch 2 Batch 858 Loss 2.9015\n",
            "Epoch 2 Loss 2.9020\n",
            "Time taken for 1 epoch: 633.7147023677826 secs\n",
            "\n",
            "Epoch 3 Batch 0 Loss 2.6298\n",
            "Epoch 3 Batch 429 Loss 2.7883\n",
            "Epoch 3 Batch 858 Loss 2.8246\n",
            "Epoch 3 Loss 2.8246\n",
            "Time taken for 1 epoch: 633.7541170120239 secs\n",
            "\n",
            "Epoch 4 Batch 0 Loss 2.4532\n",
            "Epoch 4 Batch 429 Loss 2.7074\n",
            "Epoch 4 Batch 858 Loss 2.7444\n",
            "Epoch 4 Loss 2.7445\n",
            "Time taken for 1 epoch: 634.3033549785614 secs\n",
            "\n",
            "Epoch 5 Batch 0 Loss 2.8274\n",
            "Epoch 5 Batch 429 Loss 2.6361\n",
            "Epoch 5 Batch 858 Loss 2.6776\n",
            "Saving checkpoint for epoch 5 at checkpoints/ckpt-4\n",
            "Epoch 5 Loss 2.6780\n",
            "Time taken for 1 epoch: 635.3168087005615 secs\n",
            "\n"
          ],
          "name": "stdout"
        }
      ]
    },
    {
      "cell_type": "code",
      "metadata": {
        "id": "8QKXfF1_7Imv"
      },
      "source": [
        "EPOCHS=5"
      ],
      "execution_count": null,
      "outputs": []
    },
    {
      "cell_type": "code",
      "metadata": {
        "colab": {
          "base_uri": "https://localhost:8080/"
        },
        "id": "ekjfW7iv7JDU",
        "outputId": "89dd2558-9a1f-4339-ab23-083dadb3644e"
      },
      "source": [
        "for epoch in range(EPOCHS):\n",
        "    start = time.time()\n",
        "\n",
        "    train_loss.reset_states()\n",
        "  \n",
        "    for (batch, (inp, tar)) in enumerate(dataset):\n",
        "        train_step(inp, tar)\n",
        "    \n",
        "        if batch % 429 == 0:\n",
        "            print ('Epoch {} Batch {} Loss {:.4f}'.format(epoch + 1, batch, train_loss.result()))\n",
        "            lob_2.append(' {:.4f}'.format( train_loss.result()))\n",
        "            lob_1.append(epoch+20)\n",
        "      \n",
        "    if (epoch + 1) % 5 == 0:\n",
        "        ckpt_save_path = ckpt_manager.save()\n",
        "        print ('Saving checkpoint for epoch {} at {}'.format(epoch+1, ckpt_save_path))\n",
        "    \n",
        "    print ('Epoch {} Loss {:.4f}'.format(epoch + 1, train_loss.result()))\n",
        "    lob_2.append(' {:.4f}'.format( train_loss.result()))\n",
        "    lob_1.append(epoch+20)\n",
        "    print ('Time taken for 1 epoch: {} secs\\n'.format(time.time() - start))"
      ],
      "execution_count": null,
      "outputs": [
        {
          "output_type": "stream",
          "text": [
            "Epoch 1 Batch 0 Loss 2.6816\n",
            "Epoch 1 Batch 429 Loss 2.5702\n",
            "Epoch 1 Batch 858 Loss 2.6130\n",
            "Epoch 1 Loss 2.6136\n",
            "Time taken for 1 epoch: 632.464866399765 secs\n",
            "\n",
            "Epoch 2 Batch 0 Loss 2.4739\n",
            "Epoch 2 Batch 429 Loss 2.5164\n",
            "Epoch 2 Batch 858 Loss 2.5530\n",
            "Epoch 2 Loss 2.5533\n",
            "Time taken for 1 epoch: 632.9871487617493 secs\n",
            "\n",
            "Epoch 3 Batch 0 Loss 2.2846\n",
            "Epoch 3 Batch 429 Loss 2.4573\n",
            "Epoch 3 Batch 858 Loss 2.4962\n",
            "Epoch 3 Loss 2.4968\n",
            "Time taken for 1 epoch: 632.8553555011749 secs\n",
            "\n",
            "Epoch 4 Batch 0 Loss 2.5375\n",
            "Epoch 4 Batch 429 Loss 2.3985\n",
            "Epoch 4 Batch 858 Loss 2.4461\n",
            "Epoch 4 Loss 2.4470\n",
            "Time taken for 1 epoch: 632.768563747406 secs\n",
            "\n",
            "Epoch 5 Batch 0 Loss 2.0966\n",
            "Epoch 5 Batch 429 Loss 2.3493\n",
            "Epoch 5 Batch 858 Loss 2.3981\n",
            "Saving checkpoint for epoch 5 at checkpoints/ckpt-5\n",
            "Epoch 5 Loss 2.3981\n",
            "Time taken for 1 epoch: 633.1824336051941 secs\n",
            "\n"
          ],
          "name": "stdout"
        }
      ]
    },
    {
      "cell_type": "code",
      "metadata": {
        "id": "uuGFsM7B7J9d"
      },
      "source": [
        "EPOCHS=5"
      ],
      "execution_count": null,
      "outputs": []
    },
    {
      "cell_type": "code",
      "metadata": {
        "colab": {
          "base_uri": "https://localhost:8080/"
        },
        "id": "PW7VvFwi7KqY",
        "outputId": "98aed7a1-a4ed-49e7-eaa2-d689e240f0ac"
      },
      "source": [
        "for epoch in range(EPOCHS):\n",
        "    start = time.time()\n",
        "\n",
        "    train_loss.reset_states()\n",
        "  \n",
        "    for (batch, (inp, tar)) in enumerate(dataset):\n",
        "        train_step(inp, tar)\n",
        "    \n",
        "        if batch % 429 == 0:\n",
        "            print ('Epoch {} Batch {} Loss {:.4f}'.format(epoch + 1, batch, train_loss.result()))\n",
        "            lob_2.append(' {:.4f}'.format( train_loss.result()))\n",
        "            lob_1.append(epoch+25)\n",
        "      \n",
        "    if (epoch + 1) % 5 == 0:\n",
        "        ckpt_save_path = ckpt_manager.save()\n",
        "        print ('Saving checkpoint for epoch {} at {}'.format(epoch+1, ckpt_save_path))\n",
        "    \n",
        "    print ('Epoch {} Loss {:.4f}'.format(epoch + 1, train_loss.result()))\n",
        "    lob_2.append(' {:.4f}'.format( train_loss.result()))\n",
        "    lob_1.append(epoch+25)\n",
        "    print ('Time taken for 1 epoch: {} secs\\n'.format(time.time() - start)) "
      ],
      "execution_count": null,
      "outputs": [
        {
          "output_type": "stream",
          "text": [
            "Epoch 1 Batch 0 Loss 2.2782\n",
            "Epoch 1 Batch 429 Loss 2.3092\n",
            "Epoch 1 Batch 858 Loss 2.3509\n",
            "Epoch 1 Loss 2.3515\n",
            "Time taken for 1 epoch: 616.2573475837708 secs\n",
            "\n",
            "Epoch 2 Batch 0 Loss 2.1259\n",
            "Epoch 2 Batch 429 Loss 2.2649\n",
            "Epoch 2 Batch 858 Loss 2.3103\n",
            "Epoch 2 Loss 2.3111\n",
            "Time taken for 1 epoch: 616.2998325824738 secs\n",
            "\n",
            "Epoch 3 Batch 0 Loss 2.0962\n",
            "Epoch 3 Batch 429 Loss 2.2238\n",
            "Epoch 3 Batch 858 Loss 2.2700\n",
            "Epoch 3 Loss 2.2708\n",
            "Time taken for 1 epoch: 616.4591419696808 secs\n",
            "\n",
            "Epoch 4 Batch 0 Loss 2.2391\n",
            "Epoch 4 Batch 429 Loss 2.1802\n",
            "Epoch 4 Batch 858 Loss 2.2327\n",
            "Epoch 4 Loss 2.2331\n",
            "Time taken for 1 epoch: 616.4886536598206 secs\n",
            "\n",
            "Epoch 5 Batch 0 Loss 2.1549\n",
            "Epoch 5 Batch 429 Loss 2.1411\n",
            "Epoch 5 Batch 858 Loss 2.1918\n",
            "Saving checkpoint for epoch 5 at /content/drive/MyDrive/news/checkpoints /ckpt-6\n",
            "Epoch 5 Loss 2.1923\n",
            "Time taken for 1 epoch: 616.9008765220642 secs\n",
            "\n"
          ],
          "name": "stdout"
        }
      ]
    },
    {
      "cell_type": "code",
      "metadata": {
        "colab": {
          "base_uri": "https://localhost:8080/"
        },
        "id": "iFiLYOF-UQYB",
        "outputId": "50e2edeb-22b4-4142-a2d2-a9fc9b54a161"
      },
      "source": [
        "len(lob2_2)"
      ],
      "execution_count": null,
      "outputs": [
        {
          "output_type": "execute_result",
          "data": {
            "text/plain": [
              "140"
            ]
          },
          "metadata": {
            "tags": []
          },
          "execution_count": 108
        }
      ]
    },
    {
      "cell_type": "code",
      "metadata": {
        "id": "_bTEtWMJ8hpy"
      },
      "source": [
        "EPOCHS=5"
      ],
      "execution_count": null,
      "outputs": []
    },
    {
      "cell_type": "code",
      "metadata": {
        "colab": {
          "base_uri": "https://localhost:8080/"
        },
        "id": "jxFVYf4N8oop",
        "outputId": "692b88c7-8673-4a61-8616-4f325d6d4475"
      },
      "source": [
        "for epoch in range(EPOCHS):\n",
        "    start = time.time()\n",
        "\n",
        "    train_loss.reset_states()\n",
        "  \n",
        "    for (batch, (inp, tar)) in enumerate(dataset):\n",
        "        train_step(inp, tar)\n",
        "    \n",
        "        if batch % 429 == 0:\n",
        "            print ('Epoch {} Batch {} Loss {:.4f}'.format(epoch + 1, batch, train_loss.result()))\n",
        "            lob_2.append(' {:.4f}'.format( train_loss.result()))\n",
        "            lob_1.append(epoch+35)\n",
        "      \n",
        "    if (epoch + 1) % 5 == 0:\n",
        "        ckpt_save_path = ckpt_manager.save()\n",
        "        print ('Saving checkpoint for epoch {} at {}'.format(epoch+1, ckpt_save_path))\n",
        "    \n",
        "    print ('Epoch {} Loss {:.4f}'.format(epoch + 1, train_loss.result()))\n",
        "    lob_2.append(' {:.4f}'.format( train_loss.result()))\n",
        "    lob_1.append(epoch+35)\n",
        "    print ('Time taken for 1 epoch: {} secs\\n'.format(time.time() - start)) "
      ],
      "execution_count": null,
      "outputs": [
        {
          "output_type": "stream",
          "text": [
            "Epoch 1 Batch 0 Loss 2.0487\n",
            "Epoch 1 Batch 429 Loss 2.1105\n",
            "Epoch 1 Batch 858 Loss 2.1615\n",
            "Epoch 1 Loss 2.1619\n",
            "Time taken for 1 epoch: 616.7121069431305 secs\n",
            "\n",
            "Epoch 2 Batch 0 Loss 2.0257\n",
            "Epoch 2 Batch 429 Loss 2.0687\n",
            "Epoch 2 Batch 858 Loss 2.1305\n",
            "Epoch 2 Loss 2.1309\n",
            "Time taken for 1 epoch: 616.8703992366791 secs\n",
            "\n",
            "Epoch 3 Batch 0 Loss 2.1163\n",
            "Epoch 3 Batch 429 Loss 2.0491\n",
            "Epoch 3 Batch 858 Loss 2.1000\n",
            "Epoch 3 Loss 2.1002\n",
            "Time taken for 1 epoch: 617.0466639995575 secs\n",
            "\n",
            "Epoch 4 Batch 0 Loss 2.0421\n",
            "Epoch 4 Batch 429 Loss 2.0103\n",
            "Epoch 4 Batch 858 Loss 2.0697\n",
            "Epoch 4 Loss 2.0703\n",
            "Time taken for 1 epoch: 616.821063041687 secs\n",
            "\n",
            "Epoch 5 Batch 0 Loss 1.9675\n",
            "Epoch 5 Batch 429 Loss 1.9863\n",
            "Epoch 5 Batch 858 Loss 2.0420\n",
            "Saving checkpoint for epoch 5 at /content/drive/MyDrive/news/checkpoints /ckpt-7\n",
            "Epoch 5 Loss 2.0429\n",
            "Time taken for 1 epoch: 617.446195602417 secs\n",
            "\n"
          ],
          "name": "stdout"
        }
      ]
    },
    {
      "cell_type": "code",
      "metadata": {
        "colab": {
          "base_uri": "https://localhost:8080/"
        },
        "id": "wS1T6LouLGVT",
        "outputId": "af67d22c-7be1-4adf-c831-ba9b93fa3cd4"
      },
      "source": [
        "for epoch in range(EPOCHS):\n",
        "    start = time.time()\n",
        "\n",
        "    train_loss.reset_states()\n",
        "  \n",
        "    for (batch, (inp, tar)) in enumerate(dataset):\n",
        "        train_step(inp, tar)\n",
        "    \n",
        "        if batch % 429 == 0:\n",
        "            print ('Epoch {} Batch {} Loss {:.4f}'.format(epoch + 1, batch, train_loss.result()))\n",
        "            lob_2.append(' {:.4f}'.format( train_loss.result()))\n",
        "            lob_1.append(epoch+35)\n",
        "      \n",
        "    if (epoch + 1) % 5 == 0:\n",
        "        ckpt_save_path = ckpt_manager.save()\n",
        "        print ('Saving checkpoint for epoch {} at {}'.format(epoch+1, ckpt_save_path))\n",
        "    \n",
        "    print ('Epoch {} Loss {:.4f}'.format(epoch + 1, train_loss.result()))\n",
        "    lob_2.append(' {:.4f}'.format( train_loss.result()))\n",
        "    lob_1.append(epoch+35)\n",
        "    print ('Time taken for 1 epoch: {} secs\\n'.format(time.time() - start)) "
      ],
      "execution_count": null,
      "outputs": [
        {
          "output_type": "stream",
          "text": [
            "Epoch 1 Batch 0 Loss 1.7767\n",
            "Epoch 1 Batch 429 Loss 1.9584\n",
            "Epoch 1 Batch 858 Loss 2.0132\n",
            "Epoch 1 Loss 2.0135\n",
            "Time taken for 1 epoch: 296.737544298172 secs\n",
            "\n",
            "Epoch 2 Batch 0 Loss 1.8045\n",
            "Epoch 2 Batch 429 Loss 1.9283\n",
            "Epoch 2 Batch 858 Loss 1.9883\n",
            "Epoch 2 Loss 1.9888\n",
            "Time taken for 1 epoch: 296.52947998046875 secs\n",
            "\n",
            "Epoch 3 Batch 0 Loss 1.7439\n",
            "Epoch 3 Batch 429 Loss 1.8964\n",
            "Epoch 3 Batch 858 Loss 1.9586\n",
            "Epoch 3 Loss 1.9590\n",
            "Time taken for 1 epoch: 296.2265591621399 secs\n",
            "\n",
            "Epoch 4 Batch 0 Loss 1.8574\n",
            "Epoch 4 Batch 429 Loss 1.8767\n",
            "Epoch 4 Batch 858 Loss 1.9379\n",
            "Epoch 4 Loss 1.9385\n",
            "Time taken for 1 epoch: 295.99958634376526 secs\n",
            "\n",
            "Epoch 5 Batch 0 Loss 1.8728\n",
            "Epoch 5 Batch 429 Loss 1.8557\n",
            "Epoch 5 Batch 858 Loss 1.9130\n",
            "Saving checkpoint for epoch 5 at /content/drive/MyDrive/checkpoints news/checkpoints 35/ckpt-8\n",
            "Epoch 5 Loss 1.9134\n",
            "Time taken for 1 epoch: 297.6005663871765 secs\n",
            "\n"
          ],
          "name": "stdout"
        }
      ]
    },
    {
      "cell_type": "code",
      "metadata": {
        "id": "ZQgljSFM9yma"
      },
      "source": [
        "lob2_2=[]\n",
        "for i in lob_2:\n",
        "    lob2_2.append(float(i))"
      ],
      "execution_count": null,
      "outputs": []
    },
    {
      "cell_type": "code",
      "metadata": {
        "id": "vTH93WYsDW8C"
      },
      "source": [
        "epochs=[1,2,3,4,5,6,7,8,9,10,11,12,13,14,15,16,17,18,19,20]\n",
        "loss_1=[8.2387,6.6148,5.9533,5.4824,5.1189,4.7506,4.4176,4.1452,3.9238,3.7469,3.5948,3.4537,3.3205,3.2011,3.0942,2.9932,2.902,2.8246,2.7445,2.678]\n"
      ],
      "execution_count": null,
      "outputs": []
    },
    {
      "cell_type": "code",
      "metadata": {
        "colab": {
          "base_uri": "https://localhost:8080/",
          "height": 204
        },
        "id": "B22nSr8bWrDX",
        "outputId": "8ee9505f-eb0d-4a04-ab08-3ddb7fe41032"
      },
      "source": [
        "#data__2 = pd.DataFrame({'EPOCHS':lob_1,'LOSS':lob2_2 }) \n",
        "#data__2.to_csv(\"Loss.csv\",index=False) \n",
        "Loss=pd.read_csv(\"/content/drive/MyDrive/news/Loss.csv\")\n",
        "Loss.head()"
      ],
      "execution_count": null,
      "outputs": [
        {
          "output_type": "execute_result",
          "data": {
            "text/html": [
              "<div>\n",
              "<style scoped>\n",
              "    .dataframe tbody tr th:only-of-type {\n",
              "        vertical-align: middle;\n",
              "    }\n",
              "\n",
              "    .dataframe tbody tr th {\n",
              "        vertical-align: top;\n",
              "    }\n",
              "\n",
              "    .dataframe thead th {\n",
              "        text-align: right;\n",
              "    }\n",
              "</style>\n",
              "<table border=\"1\" class=\"dataframe\">\n",
              "  <thead>\n",
              "    <tr style=\"text-align: right;\">\n",
              "      <th></th>\n",
              "      <th>EPOCHS</th>\n",
              "      <th>LOSS</th>\n",
              "    </tr>\n",
              "  </thead>\n",
              "  <tbody>\n",
              "    <tr>\n",
              "      <th>0</th>\n",
              "      <td>1</td>\n",
              "      <td>10.2920</td>\n",
              "    </tr>\n",
              "    <tr>\n",
              "      <th>1</th>\n",
              "      <td>1</td>\n",
              "      <td>9.1990</td>\n",
              "    </tr>\n",
              "    <tr>\n",
              "      <th>2</th>\n",
              "      <td>1</td>\n",
              "      <td>8.2416</td>\n",
              "    </tr>\n",
              "    <tr>\n",
              "      <th>3</th>\n",
              "      <td>1</td>\n",
              "      <td>8.2387</td>\n",
              "    </tr>\n",
              "    <tr>\n",
              "      <th>4</th>\n",
              "      <td>2</td>\n",
              "      <td>6.9647</td>\n",
              "    </tr>\n",
              "  </tbody>\n",
              "</table>\n",
              "</div>"
            ],
            "text/plain": [
              "   EPOCHS     LOSS\n",
              "0       1  10.2920\n",
              "1       1   9.1990\n",
              "2       1   8.2416\n",
              "3       1   8.2387\n",
              "4       2   6.9647"
            ]
          },
          "metadata": {
            "tags": []
          },
          "execution_count": 191
        }
      ]
    },
    {
      "cell_type": "code",
      "metadata": {
        "id": "XZFc6Qc9JWMI"
      },
      "source": [
        "loss_1=Loss['LOSS']"
      ],
      "execution_count": null,
      "outputs": []
    },
    {
      "cell_type": "code",
      "metadata": {
        "id": "kTCJvb_EJdq6"
      },
      "source": [
        "epochs=Loss['EPOCHS']"
      ],
      "execution_count": null,
      "outputs": []
    },
    {
      "cell_type": "code",
      "metadata": {
        "colab": {
          "base_uri": "https://localhost:8080/",
          "height": 505
        },
        "id": "Ijl39huFFj-R",
        "outputId": "8d4b1e22-8aa5-41ab-fc3f-d7e66dcd1459"
      },
      "source": [
        "import matplotlib.pyplot as plt \n",
        "fig, ax = plt.subplots( 1,1,figsize=(10,8))\n",
        "colors = [ '#0000FF']\n",
        "font1 = {'family':'serif','color':'red','size':13}\n",
        "font2 = {'family':'serif','color':'red','size':16}\n",
        "\n",
        "ax.plot(epochs, loss_1,color=colors[0],label='train')\n",
        "ax.tick_params(labelsize=15)\n",
        "#plt.title(\"News dataset\", fontdict = font3)\n",
        "ax.set_xlabel('EPOCHS', fontdict = font1)\n",
        "ax.set_ylabel('Loss', fontdict = font2)\n",
        "ax.legend()\n",
        "ax.axis([0, 20,2.5, 8.6])\n",
        "plt.savefig('loss_transformer.jpg')\n",
        "plt.show()"
      ],
      "execution_count": null,
      "outputs": [
        {
          "output_type": "display_data",
          "data": {
            "image/png": "[encoded data removed]",
            "text/plain": [
              "<Figure size 720x576 with 1 Axes>"
            ]
          },
          "metadata": {
            "tags": [],
            "needs_background": "light"
          }
        }
      ]
    },
    {
      "cell_type": "code",
      "metadata": {
        "id": "F5D5cv2Jd8-6"
      },
      "source": [
        "def evaluate(input_document):\n",
        "    input_document = document_tokenizer.texts_to_sequences([input_document])\n",
        "    input_document = tf.keras.preprocessing.sequence.pad_sequences(input_document, maxlen=encoder_maxlen, padding='post', truncating='post')\n",
        "\n",
        "    encoder_input = tf.expand_dims(input_document[0], 0)\n",
        "\n",
        "    decoder_input = [summary_tokenizer.word_index[\"<go>\"]]\n",
        "    output = tf.expand_dims(decoder_input, 0)\n",
        "    \n",
        "    for i in range(decoder_maxlen):\n",
        "        enc_padding_mask, combined_mask, dec_padding_mask = create_masks(encoder_input, output)\n",
        "\n",
        "        predictions, attention_weights = transformer(\n",
        "            encoder_input, \n",
        "            output,\n",
        "            False,\n",
        "            enc_padding_mask,\n",
        "            combined_mask,\n",
        "            dec_padding_mask\n",
        "        )\n",
        "\n",
        "        predictions = predictions[: ,-1:, :]\n",
        "        predicted_id = tf.cast(tf.argmax(predictions, axis=-1), tf.int32)\n",
        "\n",
        "        if predicted_id == summary_tokenizer.word_index[\"<stop>\"]:\n",
        "            return tf.squeeze(output, axis=0), attention_weights\n",
        "\n",
        "        output = tf.concat([output, predicted_id], axis=-1)\n",
        "\n",
        "    return tf.squeeze(output, axis=0), attention_weights\n"
      ],
      "execution_count": null,
      "outputs": []
    },
    {
      "cell_type": "code",
      "metadata": {
        "id": "UkpdiW6wnmiS"
      },
      "source": [
        "def summarize(input_document):\n",
        "    summarized = evaluate(input_document=input_document)[0].numpy()\n",
        "    summarized = np.expand_dims(summarized[1:], 0) \n",
        "    return summary_tokenizer.sequences_to_texts(summarized)[0]  "
      ],
      "execution_count": null,
      "outputs": []
    },
    {
      "cell_type": "code",
      "metadata": {
        "colab": {
          "base_uri": "https://localhost:8080/"
        },
        "id": "nBC1kpXs-wfw",
        "outputId": "6019d7c1-e221-4cb7-b42b-c9d416cdcb31"
      },
      "source": [
        "random_=[]\n",
        "for i in range(0,100):\n",
        "    \n",
        "    random = np.random.randint(0,1000)\n",
        "    random_.append(random)\n",
        "    print(\"Review:\",inputs_[random])\n",
        "    print(\"Original summary:\",targets_[random])\n",
        "    print(\"Predicted summary:\",summarize(inputs_[random]))\n",
        "    print(\"\\n\")\n",
        "print(random_)"
      ],
      "execution_count": null,
      "outputs": [
        {
          "output_type": "stream",
          "text": [
            "Review: the ministry of external affairs has termed akshay kumar starrer 39 airlift 39 a great film adding that it fell short on facts 34 the film has also taken a lot of artistic liberties in the depictions of the events that actually happened in kuwait in 1990 34 ministry spokesman vikas swarup said former ambassador nirupama rao has also termed the film as 39 biased 39\n",
            "Original summary: 39 airlift 39 great but short of facts says mea\n",
            "Predicted summary: 39 nation 39 trending on twitter today\n",
            "\n",
            "\n",
            "Review: apple on wednesday posted its highest ever quarterly net income of 18 4 billion in the december quarter a 2 2 jump against the corresponding period last year revenue rose around 1 74 to a record 75 9 billion against the year ago period further apple sold a record 74 8 million iphones marginally higher than the 74 5 million sales in the same period last year\n",
            "Original summary: apple posts highest ever quarterly net income\n",
            "Predicted summary: apple posts highest quarterly revenue in an net income\n",
            "\n",
            "\n",
            "Review: archbishop leo cornelio of bhopal archdiocese on friday alleged that in madhya pradesh anti conversion law is being misused as christians are accused of forced conversion “fringe groups try to take advantage of the fact that the bjp is in power 34 said leo earlier the catholic secular forum said that 2015 was the worst year for indian christians since independence\n",
            "Original summary: anti conversion law misused in mp archbishop\n",
            "Predicted summary: anti muslim law against dalit officers\n",
            "\n",
            "\n",
            "Review: google street view on thursday launched a 360° view of mont blanc one of the highest mountain peaks in europe google street view has collaborated with a team of professional mountaineers to let users experience running up and down the peak climb ice cliffs and ski it also offers panoramic view of the snow capped surroundings of mont blanc\n",
            "Original summary: google street view adds 360° view of mont blanc\n",
            "Predicted summary: google street view adds 360° view of 39 jungle 39\n",
            "\n",
            "\n",
            "Review: the foreign investment promotion board fipb on friday cleared 13 foreign direct investment fdi proposals worth ₹6 500 crore the board cleared the proposal of atc asia pacific pte to acquire a majority stake in viom networks involving ₹5 900 crore nalstom manufacturing india’s proposal worth ₹400 crore and pharma firm cipla’s proposal of ₹150 crore were also cleared by the fipb\n",
            "Original summary: fipb clears 13 fdi proposals worth ₹6 500 cr\n",
            "Predicted summary: ongc videsh gets ₹6 100 cr in foreign fund\n",
            "\n",
            "\n",
            "Review: actor will smith on thursday confirmed that he would follow his wife jada pinkett smith 39 s decision to boycott this year 39 s academy awards over lack of nominations for black actors 34 i’ve been nominated twice for academy awards and i’ve never lost to a white person 34 said smith earlier smith 39 s performance in 39 concussion 39 was expected to fetch him an oscar nomination\n",
            "Original summary: will smith to join wife in boycotting oscars\n",
            "Predicted summary: want to join wife to join baywatch ganguly\n",
            "\n",
            "\n",
            "Review: rupa devi on tuesday qualified to officiate international football matches conducted by fifa the 24 year old referee from dindigul tamil nadu is a teacher at the madurai kamaraj university where she used to play football for the college team she has refereeing experience at state and national level matches as well as at the afc under 14 football festival in 2013\n",
            "Original summary: female indian football referee qualified by fifa\n",
            "Predicted summary: iranian female player quits over russia 39 s entry\n",
            "\n",
            "\n",
            "Review: the supreme court on friday directed the cbi to conduct a probe into the 2005 murder of bahujan samaj party leader raju pal the petitioner pal 39 s wife alleged the murder to have been political and carried out at the behest of the samajwadi party it was further alleged that the investigation carried out by the state had not been impartial\n",
            "Original summary: sc orders cbi to probe bsp leader pal 39 s murder\n",
            "Predicted summary: cbi orders cbi to probe bulandshahr gangrape case\n",
            "\n",
            "\n",
            "Review: japanese designers 39 the hoshinchu team 39 have created a floating bonsai tree whose magnetic base allows it to levitate the 39 air bonsai 39 consists of two parts–an 39 energy base 39 and a mossy ball called 39 little star 39 both halves have installed magnets allowing the little star with the bonsai on top to float interestingly the bonsai can be replaced with any plant\n",
            "Original summary: japanese designers create floating bonsai\n",
            "Predicted summary: japanese designer develops smart floating cover\n",
            "\n",
            "\n",
            "Review: a first round mixed doubles match at the australian open is being investigated for alleged match fixing after sports gambling website pinnacle sports cancelled all bets for the day due to highly one sided betting on the match the pair of andrea hlavackova and lukasz kubot defeated lara arruabarrena and david marrero 6 0 6 3 in just 49 minutes prompting the speculation\n",
            "Original summary: australian open match hit by match fixing claims\n",
            "Predicted summary: australian open match fixing claims in match\n",
            "\n",
            "\n",
            "Review: cbi on thursday moved the delhi high court against the order of a trial court to return the documents seized during the raids at the office of delhi chief minister 39 s principal secretary rajendra kumar the cbi contended that they 34 really need 34 the documents as the investigation was still on and the witnesses were yet to be examined\n",
            "Original summary: cbi moves delhi hc against trial court order\n",
            "Predicted summary: cbi files chargesheet against hc against cbi\n",
            "\n",
            "\n",
            "Review: nasa’s hubble space telescope has discovered that smith cloud a huge hydrogen gas cloud launched from the milky way galaxy around 70 million years ago is on a return collision course at nearly 7 00 000 miles per hour it is expected to collide into the galactic disc in 30 million years and burst out enough gas to make two million suns\n",
            "Original summary: huge gas cloud boomerangs back to milky way\n",
            "Predicted summary: jupiter like loses spot in 39 galaxy 39 risk study\n",
            "\n",
            "\n",
            "Review: reliance jio on wednesday unveiled a new series of 4g smartphones under the name 39 lyf 39 starting from ₹14 690 it consists of three smartphones namely lyf earth 1 water 1 and water 2 the lowest variant lyf water 2 runs on android 5 0 2 lollipop and comes with a 12 7 cm hd display 13 mp rear camera and 5 mp front camera\n",
            "Original summary: rjio 39 s new lyf smartphones to start from ₹14 690\n",
            "Predicted summary: reliance jio 39 s new version of reliance jio 39 s 2 phones launched\n",
            "\n",
            "\n",
            "Review: israel based security firm perception point on tuesday reported a bug in the linux kernel version 3 8 released in 2013 which can affect around 66 percent of all android devices worldwide the bug could allow unauthorized access into android devices running kitkat and later versions however the company has said that it hasn’t yet noticed instances of the bug being exploited\n",
            "Original summary: security flaw discovered in android devices\n",
            "Predicted summary: android devices launch of security devices in pak\n",
            "\n",
            "\n",
            "Review: bsp supremo mayawati on thursday attacked pm narendra modi for getting emotional in lucknow over the suicide of hyderabad dalit scholar rohith vemula and termed his words as a 34 move driven by politics 34 mayawati referred to bjp minister gen vk singh 39 s earlier dog remark against dalits and asked why centre failed to act against him\n",
            "Original summary: pm 39 s words for rohith is only politics mayawati\n",
            "Predicted summary: mayawati 39 s family is like 39 mayawati 39 s mayawati\n",
            "\n",
            "\n",
            "Review: defence minister manohar parrikar has been requested to accept z security cover by the goa police during his stay in the state the request comes after the islamic state purportedly signed a letter threatening to harm parrikar and prime minister narendra modi parrikar had earlier dismissed the threat letter by saying 34 it was issued on a 50 paise postcard 34\n",
            "Original summary: goa police asks parrikar to take z security\n",
            "Predicted summary: goa police asks parrikar to take selfies to party\n",
            "\n",
            "\n",
            "Review: pakistan 39 s estimated 110 130 nuclear warheads are aimed at deterring india from taking military action against it a report of usa 39 s congressional research service said the report added that the 34 full spectrum deterrence 34 doctrine of pakistan has increased the risk of nuclear conflict with india reports of the crs however are not considered as the official view of the us government\n",
            "Original summary: pak nuclear warheads aim to deter india report\n",
            "Predicted summary: pak jit india to be tested on nuclear power\n",
            "\n",
            "\n",
            "Review: under the state initiative 39 mukh mantri tirath yatra scheme 39 punjab deputy chief minister sukbir singh badal on wednesday inaugurated the first train journey to varanasi from the jalandhar city railway station carrying many pilgrims the initiative aimed at strengthening the communal harmony in the state plans to introduce 12 more tirath yatra trains in january and february\n",
            "Original summary: 1st pilgrim train from varanasi jalandhar begins\n",
            "Predicted summary: 1st green water train begins in varanasi\n",
            "\n",
            "\n",
            "Review: former south african test captain hashim amla and debutant opener stephen cook each scored centuries to help the proteas finish day one of the fourth test against england on 329 5 at the centurion england bowlers fought back in the last session of the day as they picked up four wickets after tea moeen ali picked up two wickets for england\n",
            "Original summary: amla cook centuries propel sa to 329 5\n",
            "Predicted summary: amla drops smith at 5 000 runs after test runs\n",
            "\n",
            "\n",
            "Review: google in america is reportedly testing solar powered drones to deliver high speed internet from the air under a project named 39 skybender 39 google is using these drones to experiment with a technology that could possibly form 5g wireless internet which will be 40 times faster than the 4g network google is planning to deliver internet access throughout the world with self flying aircraft\n",
            "Original summary: google testing solar powered drones for 5g\n",
            "Predicted summary: nasa launches solar powered drones for solar powered drones\n",
            "\n",
            "\n",
            "Review: actors shatrughan sinha and akshay kumar on sunday slammed bollywood personalities for their 39 intolerance 39 remarks 34 u ps and downs happen in every nation and you can 39 t get into so much straight away that you start giving such bold statements 34 akshay said 34 p eople from the film industry brought up the issues of intolerance in haste it is childish 34 sinha said\n",
            "Original summary: shatrughan akshay slam bollywood on intolerance\n",
            "Predicted summary: happy about bollywood actors are happy akshay kumar\n",
            "\n",
            "\n",
            "Review: indian shuttler pv sindhu reached the final of the 2016 malaysian grand prix gold after a hard fought 21 19 12 21 21 10 win over sung ji hyun in the semi finals on saturday the 20 year old indian took the first game lost a tough 2nd game to sung before eventually clinching the tie in 3 games winning a one sided 3rd game 21 10\n",
            "Original summary: sindhu enters final of malaysian grand prix gold\n",
            "Predicted summary: pv sindhu reaches final of rio olympics final\n",
            "\n",
            "\n",
            "Review: rohan bopanna and his taiwanese partner yung jan chan defeated the czech polish combine of andrea hlavackova and lukasz kubot 4 6 6 3 10 6 to enter the mixed doubles quarterfinal of the australian open the 3rd seeded indo taiwanese pair won the match in 1 hour and 10 minutes they fought back after losing the first set eventually clinching it in the super tiebreak\n",
            "Original summary: bopanna chan enter aus open mixed doubles qf\n",
            "Predicted summary: aus open bopanna chan enter aus open qf\n",
            "\n",
            "\n",
            "Review: india and france on monday signed an mou on the government to government agreement for the purchase of 36 rafale fighter jets at hyderabad house in delhi paving the way for technological and industrial cooperation the agreement was signed in the presence of pm narendra modi and french president françois hollande each rafale fighter jet will reportedly cost india over ₹800 crore\n",
            "Original summary: india france agreement on 36 rafale jets inked\n",
            "Predicted summary: rafale jet deal with india in 36 rafale jets aap\n",
            "\n",
            "\n",
            "Review: the uefa executive committee on friday approved the use of goal line technology for the 2016 euro championship and the 2016 17 uefa champions league the system for the technology will be installed at all venues however uefa will continue to have assistant referees near the goal line this technology has already been in use in the barclays premier league\n",
            "Original summary: uefa approves goal line technology\n",
            "Predicted summary: uefa approves goal of euro 2016\n",
            "\n",
            "\n",
            "Review: prime minister narendra modi on saturday declassified 100 files related to freedom fighter netaji subhash chandra bose at the national archives of india nai in delhi modi also met netaji 39 s family members present at the event held on bose 39 s 119th birth anniversary the nai also plans to release digital copies of 25 declassified files on bose every month\n",
            "Original summary: pm modi declassifies 100 secret files on netaji\n",
            "Predicted summary: pm modi replaces mahatma gandhi in varanasi\n",
            "\n",
            "\n",
            "Review: west indies cricketing legend shivnarine chanderpaul on saturday retired from all forms of international cricket chanderpaul last played for west indies in may 2015 in the home test series against england the 41 year old scored 20988 runs in 454 international matches at an average of 45 72 with 41 centuries and 125 half centuries to his name\n",
            "Original summary: chanderpaul retires from international cricket\n",
            "Predicted summary: mccullum performs guinness world record\n",
            "\n",
            "\n",
            "Review: the international monetary fund imf has announced the implementation of its long due quota reforms which were passed in 2010 but only got the us congress 39 approval last year as a result of the reforms four emerging market countries brazil china india and russia will gain more voting rights and be among the ten largest members of the imf\n",
            "Original summary: imf implements long due quota reforms\n",
            "Predicted summary: imf chief imf chief quota for 2016\n",
            "\n",
            "\n",
            "Review: speaking at the world economic forum in davos on saturday finance minister arun jaitley said one main reform which is still work in progress is 39 ease of doing business 39 in india 34 we did not have a great track record on that but our rankings have improved there we will continue to take steps on that front 34 he added\n",
            "Original summary: ease of doing biz still work in progress fm\n",
            "Predicted summary: ease of doing business but will affect india gadkari\n",
            "\n",
            "\n",
            "Review: veteran actress rekha was on monday honoured with the yash chopra memorial award for her contribution to the film industry the award was presented to her by maharashtra governor c vidyasagar rao at an event held in mumbai 34 it is reminder to do better than the best better than ever before it’s not my last chapter 34 the 61 year old actress said\n",
            "Original summary: rekha honoured with yash chopra memorial award\n",
            "Predicted summary: rekha honoured with yash chopra memorial award\n",
            "\n",
            "\n",
            "Review: hyderabad central university hcu on thursday revoked the suspension of five of its research scholars including the deceased dalit scholar rohith vemula who committed suicide on january 17 the scholars who were members of ambedkar students association were accused of allegedly assaulting an abvp leader in august 2015 they were barred access to public places on campus and the hostel\n",
            "Original summary: hcu revokes suspension of 5 dalit scholars\n",
            "Predicted summary: hyd varsity vc passes away over fee\n",
            "\n",
            "\n",
            "Review: bjp leader shatrughan sinha on friday criticised his own party for the imposition of presidential rule in arunachal pradesh sinha took to twitter to express his disagreement he asked what was the hurry for the imposition when the matter is sub judice in the supreme court under a constitutional bench and who were the pm 39 s advisors in the issue\n",
            "Original summary: shatrughan sinha slams bjp in arunachal issue\n",
            "Predicted summary: bjp leader demands sacking of kerala cm 39 s rule\n",
            "\n",
            "\n",
            "Review: japan based mold factory nitto has developed a wearable chair called archelis japanese for walkable chair for surgeons the product aims at allowing surgeons to sit during surgery thus reducing fatigue while performing long and physically demanding operations however the chair can help people from any industry who must stand for long periods archelis is expected to start selling this summer\n",
            "Original summary: wearable chair archelis developed for surgeons\n",
            "Predicted summary: wearable chair ever sensor for snow forecast him\n",
            "\n",
            "\n",
            "Review: the new shepard suboribtal rocket developed by space company blue origin has become the world 39 s first commercial rocket to be successfully reused new shepard was launched and vertically landed for a second time after november in texas on friday it reached a maximum altitude of 333 582 feet above the earth’s surface notably blue origin was founded by amazon ceo jeff bezos\n",
            "Original summary: blue origin rocket world 39 s first to be reused\n",
            "Predicted summary: blue origin 39 s rocket launch launch to be tested in 2018\n",
            "\n",
            "\n",
            "Review: finance minister arun jaitley on thursday said that the government will award road projects covering 10 000 kilometres by the end of the ongoing fiscal projects covering 6 800 kilometres have already been awarded jaitley further claimed that procedures for building highways have been simplified as a consequence of which “today all major contracts attract multiple contractors bidding”\n",
            "Original summary: will award 10k km road projects this fiscal fm\n",
            "Predicted summary: will spend ₹20k cr in 3 years to be set up soon\n",
            "\n",
            "\n",
            "Review: instant messaging app n gage has launched its service in india to compete with other chat platforms like whatsapp hike line and viber in addition to having standard chat app features n gage allows users to send encrypted messages to each other that are password protected and are automatically deleted after a pre set duration the app also has a desktop version\n",
            "Original summary: instant messaging app n gage launched in india\n",
            "Predicted summary: bse launches mobile desktop site based on twitter\n",
            "\n",
            "\n",
            "Review: a two foot by two foot 317 kg locked safe was found in the debris of a miami beach mansion that was once owned by the colombian drug lord pablo escobar the current owner of the property chicken kitchen founder christian de berdouare said the safe will remain locked until they finish filming a documentary about escobar 39 s link to the property\n",
            "Original summary: safe found in pablo escobar 39 s former mansion\n",
            "Predicted summary: archaeologists 39 s wife robbed of words at mall site\n",
            "\n",
            "\n",
            "Review: the united states fbi on tuesday arrested the leader of an armed group that was occupying a wildlife reserve in oregon one person died and another was wounded in the firing during the incident the group is occupying the malheur national wildlife refuge since january 2 in a rebellion over the us government 39 s control of land\n",
            "Original summary: oregon occupiers 39 leader arrested by us fbi\n",
            "Predicted summary: 39 trump accused of killing suspect arrested in france 39\n",
            "\n",
            "\n",
            "Review: artists have completed creating a life sized replica of the 18 000 year old stone age cave paintings ‘sistine chapel of prehistoric art’ in france the original paintings were discovered in 1940 and were later given unesco world heritage status the replicas will be transported piece by piece to the international center of parital art which will open at the end of this year\n",
            "Original summary: french artists replicate stone age paintings\n",
            "Predicted summary: french university offers pet bottles as its beer bottles\n",
            "\n",
            "\n",
            "Review: dating app tinder has collaborated with giphy to allow users to send gifs to potential matches in other updates users can now ‘like’ messages on the app by hitting a little green heart icon and also upload their tinder profile photos directly from their camera rolls further emojis will now be displayed in a larger format on the app\n",
            "Original summary: tinder allows users to send gifs in messages\n",
            "Predicted summary: tinder allows users to show gifs in messages\n",
            "\n",
            "\n",
            "Review: reliance industries chief mukesh ambani has emerged as the richest person in india and the 27th richest in the world with a net worth of 24 8 billion according to a wealth x global list of 50 wealthiest people wipro chairman azim premji 43 and sun pharmaceuticals head dilip shanghvi 44 were the other two indians on the list\n",
            "Original summary: 3 indians on global list of 50 wealthiest people\n",
            "Predicted summary: 39 india 39 s richest people in the world 39 s highest 100 richest list\n",
            "\n",
            "\n",
            "Review: google has agreed to pay £130 million in back taxes to the uk as reported by bbc on friday google has reportedly paid £20 4 million in taxes despite reaching sales worth £3 8 billion from their setup within the country this payment covers the tax owed since 2005 and follows a six year long inquiry by the country 39 s revenue and customs department\n",
            "Original summary: google agrees to pay £130 mn in back taxes to uk\n",
            "Predicted summary: google ordered to pay 25 mn for sex workers at risk\n",
            "\n",
            "\n",
            "Review: instant messaging app n gage has launched its service in india to compete with other chat platforms like whatsapp hike line and viber in addition to having standard chat app features n gage allows users to send encrypted messages to each other that are password protected and are automatically deleted after a pre set duration the app also has a desktop version\n",
            "Original summary: instant messaging app n gage launched in india\n",
            "Predicted summary: bse launches mobile desktop site based on twitter\n",
            "\n",
            "\n",
            "Review: yahoo has shut down operations in mexico and argentina as a part of its strategy to downsize regional operations especially in latin america however the company did not reveal the number of people affected by the closure under ceo marissa mayer yahoo has been downsizing operations in international markets in india china other parts of asia and europe\n",
            "Original summary: yahoo shuts operations in mexico argentina\n",
            "Predicted summary: yahoo accidentally shuts 100 refugees after polls\n",
            "\n",
            "\n",
            "Review: dr vipin srivastava the interim vice chancellor at the hyderabad central university hcu who was appointed on january 24 was on friday reportedly requested to go on leave for four days srivastava was brought in place of prof appa rao podile to broker peace with the protesters earlier podile was also sent on indefinite leave after protestors sought his resignation\n",
            "Original summary: interim vc at hyd university told to go on leave\n",
            "Predicted summary: hyd university vc ends 16 day talk as men shuts down\n",
            "\n",
            "\n",
            "Review: at least 19 people lost their lives to weather related accidents after a snowstorm struck southern and eastern us emergency has been declared by eleven states and almost 10 000 flights flying on friday saturday and sunday have reportedly been cancelled with at least 25 1 inches of snow the storm is new york 39 s third most severe in terms of snowfall accumulation\n",
            "Original summary: snowstorm leaves 19 dead in us\n",
            "Predicted summary: at least 60 killed in us president accept commander crash\n",
            "\n",
            "\n",
            "Review: one of the 14 terror suspects detained by the national investigating agency last week revealed that he was told by handlers that his actions are similar to the sacrifices made by freedom fighter bhagat singh the 33 year old believed to be the is recruiter in india added that his handlers convinced him that 34 even today america and british are ruling india 34\n",
            "Original summary: 39 was told my sacrifice was like bhagat singh 39\n",
            "Predicted summary: 39 i was told not a good job of kanhaiya 39\n",
            "\n",
            "\n",
            "Review: all india radio air on tuesday launched a 24x7 classical music channel 39 raagam 39 on its 39 all india radio live 39 mobile app it is currently available on android ios and windows phones and provides easy accessibility to music and its interpretation over the internet the channel will take contributions from 13 air stations across india but will be broadcasted from bengaluru\n",
            "Original summary: 24x7 classical music channel on air app launched\n",
            "Predicted summary: indigo launches 39 disabled 39 service\n",
            "\n",
            "\n",
            "Review: the official trailer of 39 1982 a love marriage 39 a prashant m gorey directorial was released on youtube on thursday the film features newcomers amitkumar sharma and omna harjani among others produced under the banner 39 shuddh paarivarik chalchitra 39 it is a comedy film with the backdrop of arranged marriage versus love marriage it is scheduled to release on february 26\n",
            "Original summary: trailer of 39 1982 a love marriage 39 released\n",
            "Predicted summary: trailer of 39 love 39 a flying jatt 39 released\n",
            "\n",
            "\n",
            "Review: indian rifle shooter abhinav bindra was on thursday honoured with the international shooting sport federation president 39 s button and diploma of honour the highest honour of the sporting body the 33 year old dehradun born shooter in 2008 became the first indian to win an olympic gold medal he is also the only indian to have olympic and world title at the same time\n",
            "Original summary: abhinav bindra honoured by int 39 l shooting body\n",
            "Predicted summary: abhinav bindra reaches high of its own business\n",
            "\n",
            "\n",
            "Review: in a youtube video released by y films on monday sonu nigam has sung a song in collaboration with india 39 s first transgender band 39 6 pack band 39 as per the description of the single ‘sab rab de bande’ it is inspired by a couplet from the religious book of sikhism guru granth sahib the song 39 s reprise version will release on february 6\n",
            "Original summary: sonu nigam sings with transgender band 39 6 pack 39\n",
            "Predicted summary: sonu nigam sings for sonu nigam 39 s short film\n",
            "\n",
            "\n",
            "Review: union transport minister nitin gadkari on saturday said that the government is hopeful of completing road projects worth ₹7 lakh crore by the end of fy19 against the earlier set target of ₹5 lakh crore he added that the country at present has 96 000 km of national highways which the ministry wants to expand to 1 50 000 km over this period\n",
            "Original summary: 39 hopeful of road projects worth ₹7l cr by fy19 39\n",
            "Predicted summary: 39 power plant 39 song worth ₹1 5k cr in last fiscal year\n",
            "\n",
            "\n",
            "Review: the second memoir written by president pranab mukherjee 39 the turbulent years 1980 1996 39 was on thursday released by vice president hamid ansari the book speaks of events in mukherjee 39 s political life during the time including indira gandhi 39 s assassination and operation blue star the book also dismisses rumours which claimed that he wanted to be the interim pm post indira gandhi 39 s death\n",
            "Original summary: president pranab mukherjee 39 s 2nd memoir released\n",
            "Predicted summary: president mukherjee 39 s 2nd pro boxing century\n",
            "\n",
            "\n",
            "Review: german internet company and startup investor rocket internet has reportedly decided to exit from india and has made multiple attempts to sell unprofitable fabfurnish and printvenue rocket internet backed jabong foodpanda and fabfurnish witnessed several senior level exits over the last six months rocket internet entered the indian market in 2012 by incubating half a dozen companies\n",
            "Original summary: rocket to shut fabfurnish printvenue reports\n",
            "Predicted summary: rocket to shut down its internet service\n",
            "\n",
            "\n",
            "Review: barcelona 39 s javier mascherano has been given a one year prison sentence and fined €815 000 approximately ₹6 crores on two counts of tax frauds of €600 000 in 2011 and over €968 000 in 2012 the argentine could avoid prison time if he pays the money due and an added fine apart from the €815 000 he has already been fined\n",
            "Original summary: mascherano gets one year jail term for tax fraud\n",
            "Predicted summary: tax fraud fined over ₹4 crore for being made in court\n",
            "\n",
            "\n",
            "Review: the atal pension yojana apy launched by pm narendra modi 39 s government in june 2015 has reportedly reached only 10 of its two crore target in eight months following the poor response the government extended its incentives for new enrolments to march 31 the bjp has announced plans to spread awareness of the apy benefits using party workers to attract more enrolments\n",
            "Original summary: modi 39 s pension plan hits only 10 target report\n",
            "Predicted summary: 39 modi 39 s exports fall in fy16 rbi budget 39\n",
            "\n",
            "\n",
            "Review: president pranab mukherjee on tuesday gave his assent to the cabinet 39 s recommendation for president 39 s rule in arunachal pradesh mukherjee earlier met home minister rajnath singh who explained the rationale behind the recommendation arunachal pradesh chief minister nabam tuki said the congress would seek justice from the supreme court as arunachal pradesh is a peaceful state\n",
            "Original summary: president 39 s rule imposed in arunachal pradesh\n",
            "Predicted summary: president 39 s rule imposed in arunachal pradesh\n",
            "\n",
            "\n",
            "Review: miss colombia ariadna gutiérrez who recently appeared as a guest on 39 the steve harvey show 39 told harvey that he needs to 34 learn how to read cards 34 harvey who was the host at the 2015 miss universe beauty pageant had wrongly announced gutiérrez as winner before correcting himself apologising for the incident he said 34 i am beyond sorry for what happened 34\n",
            "Original summary: learn to read cards miss colombia tells harvey\n",
            "Predicted summary: miss universe talks to let child abuse\n",
            "\n",
            "\n",
            "Review: braces from strikers enner valencia sergio aguero and roberto firmino helped them get into hotstar 39 s premier league team of the game week 23 the team was picked in a 3 4 3 formation with tottenham hotspur 39 s hugo lloris as the goalkeeper spurs 39 dele alli chelsea 39 s cesc fabregas and the leicester city duo of danny drinkwater and n 39 golo kante made up the midfield\n",
            "Original summary: premier league team of game week 23\n",
            "Predicted summary: premier league game of thrones season 6\n",
            "\n",
            "\n",
            "Review: ten professors belonging to the sc st community in hyderabad central university tendered their resignation on thursday over the 39 fabricated statements 39 remark by union hrd minister smriti irani regarding the suicide of dalit scholar rohith vemula the professors also demanded revocation of suspended students adding that the committee which passed the order was headed by an upper caste professor\n",
            "Original summary: 10 dalit professors quit hyd central university\n",
            "Predicted summary: 4 more ex hyd mlas than jat protestors\n",
            "\n",
            "\n",
            "Review: the central government has asked oil firms in india to boost ties with oil producing african nations to take advantage of the falling crude oil prices and create reserve stock for future demand notably india has doubled oil imports from nigeria for 2016 17 while african nations of sudan and equatorial guinea have offered tie ups with the indian government for oil exploration\n",
            "Original summary: govt asks oil firms to boost ties with africa\n",
            "Predicted summary: govt extends oil supply to oil supply\n",
            "\n",
            "\n",
            "Review: with an addition of 1 8 crore new voters to the electoral rolls in the recent past the registered voter base in india rose to around 85 crore chief election commissioner cec nasim zaidi said on monday around 50 of people in the age group of 18 19 were enrolled compared to 10 15 a few years ago he added\n",
            "Original summary: india has 85 crore registered voters cec\n",
            "Predicted summary: india has access to income tax dept in 2015\n",
            "\n",
            "\n",
            "Review: insurance policy comparison platform easypolicy has raised ₹15 crore in fresh funding led by ronnie screwvala’s unilazer ventures founder of refex energy anil jain also participated in the funding founded in 2011 by alok bhatnagar divyanshu tripathi and neeraj aggarwala easypolicy lets users get quotes from various insurance companies to make price based comparisons among insurance policies\n",
            "Original summary: easypolicy gets ₹15 cr funding led by unilazer\n",
            "Predicted summary: online profit rises by 94 to ₹16 000 crore\n",
            "\n",
            "\n",
            "Review: after plunging by 617 34 points in intra day trade on wednesday to breach the 24 000 mark for the first time since may 2014 the sensex recovered slightly to end 417 80 points down at 24 062 04 meanwhile the nifty closed 125 80 points down at 7 309 30 analysts attributed the slump to heavy selling of asian stock triggered by imf which slashed 2016 39 s global growth forecast\n",
            "Original summary: sensex tanks by 417 80 points nifty nears 7 300\n",
            "Predicted summary: sensex loses 70 points nifty down by 42 points\n",
            "\n",
            "\n",
            "Review: japanese conglomerate toshiba plans to sell part of the chip business with an aim to recover from the previous 1 3 billion accounting scandal as per the reports from reuters the company reportedly has started accepting bids with an early interest shown by the development bank of japan who has already invested in the semiconductor operations of tokyo based seiko holdings corporation\n",
            "Original summary: toshiba to sell part of its chip business\n",
            "Predicted summary: toshiba to sell its first chip business\n",
            "\n",
            "\n",
            "Review: a cholera outbreak in tanzania has left at least 222 people dead and infected 14 303 since august according to the united nations twenty seven districts have been affected by the disease which was caused by contaminated water the first case of the disease was reportedly found in kinondoni district of dar es salaam from which it spread to the entire region\n",
            "Original summary: cholera kills 222 infects over 14k in tanzania\n",
            "Predicted summary: cholera kills over 150 people in libya study\n",
            "\n",
            "\n",
            "Review: under the state initiative 39 mukh mantri tirath yatra scheme 39 punjab deputy chief minister sukbir singh badal on wednesday inaugurated the first train journey to varanasi from the jalandhar city railway station carrying many pilgrims the initiative aimed at strengthening the communal harmony in the state plans to introduce 12 more tirath yatra trains in january and february\n",
            "Original summary: 1st pilgrim train from varanasi jalandhar begins\n",
            "Predicted summary: 1st green water train begins in varanasi\n",
            "\n",
            "\n",
            "Review: the supreme court on wednesday said that tiger conservation is important but not at the cost of the country’s economic development this comes after some ngos challenged the four laning of nh 7 between nagpur and jabalpur as the project is passing through the pench tiger reserve in madhya pradesh the sc said  “real danger to tiger is not from road traffic but poachers”\n",
            "Original summary: can 39 t conserve tigers at cost of development sc\n",
            "Predicted summary: can 39 t give more than profit than profit sc to sc\n",
            "\n",
            "\n",
            "Review: versace 39 s haute couture line 39 atelier versace 39 on sunday opened the haute couture shows with the collection 39 athletic couture 39 at paris fashion week model gigi hadid walked the runway for the french fashion house in an all black ensemble with extensive cutouts knots of chunky swarovski ropes feminine silhouettes and bold cutouts were part of the label 39 s spring summer 2016 collection\n",
            "Original summary: atelier versace opens paris fashion week\n",
            "Predicted summary: gigi hadid debuts new fashion collection\n",
            "\n",
            "\n",
            "Review: airplane maker boeing on wednesday said that the deliveries of commercial planes is expected to decline in 2016 versus what was a record year in 2015 it’s net profit for the quarter that ended in december was 1 03 billion 30 lower than the year ago quarter weakness in sales of large planes was attributed as a particular drag on revenues\n",
            "Original summary: boeing to deliver fewer planes in 2016\n",
            "Predicted summary: airbus to build planes of mars at record emissions\n",
            "\n",
            "\n",
            "Review: un aid chief stephen o 39 brien told the security council on wednesday that syria ignored most of its requests to send aid through inter agency convoys he said only 10 of the requests were approved while another 10 were approved in principle but never materialised around 13 5 million syrians need aid now compared to the 1 3 million in 2014 he added\n",
            "Original summary: syria ignored many requests to deliver aid un\n",
            "Predicted summary: syria truce used to cut un aid un\n",
            "\n",
            "\n",
            "Review: delhi police on monday disallowed fountain pens inside the chhatrasal stadium in north delhi where cm arvind kejriwal was the chief guest for a republic day function an official said those found to be in possession of a pen were asked to leave it outside the venue the official added on january 17 a woman had thrown ink at kejriwal\n",
            "Original summary: delhi police bans fountain pens at cm 39 s event\n",
            "Predicted summary: delhi police bans porn at event after being banned\n",
            "\n",
            "\n",
            "Review: gajendra chauhan the recently appointed chairman of the film and television institute of india said on wednesday that there are no protests in ftii now and everything is under control 34 i have officially joined now and nothing has happened they are protesting right now regarding the hyderabad suicide issue 34 said chauhan who faced huge protest from students against his appointment\n",
            "Original summary: no protests in ftii right now gajendra chauhan\n",
            "Predicted summary: no reported cases of constitution against me cji\n",
            "\n",
            "\n",
            "Review: china is planning to develop an 34 exascale 34 supercomputer that will be capable of performing more than a billion billion calculations per second the prototype for such a computer will be released in either 2017 or 2018 the supercomputer will be 1 000 times more powerful than china’s tianhe 1a which was identified as the world 39 s fastest computing system in 2010\n",
            "Original summary: china to develop new supercomputer in 2 years\n",
            "Predicted summary: china to develop new supercomputer in one year\n",
            "\n",
            "\n",
            "Review: french army soldiers on tuesday became the first foreign military contingent to take part in india’s republic day parade led by lieutenant colonel paul bury of the 35th infantry regiment the 76 member contingent marched down rajpath before president pranab mukherjee french president françois hollande and prime minister narendra modi also a french band played two military tunes at the parade\n",
            "Original summary: french army first foreign contingent at r day\n",
            "Predicted summary: france opens military exercise competition to india\n",
            "\n",
            "\n",
            "Review: indian origin physicist professor chennupati jagadish was on tuesday awarded australia 39 s highest civilian honour the companion of the order of australia ac the award was in recognition of his service in physics and engineering professor jagadish was born and educated in india and currently heads the semiconductor optoelectronics and nanotechnology group at the australian national university\n",
            "Original summary: india born physicist gets australia 39 s top honour\n",
            "Predicted summary: india born with journalist differently abled gets 2nd consecutive day\n",
            "\n",
            "\n",
            "Review: central reserve police force crpf personnel have been deployed in pulwama and anantnag districts even as a shutdown was observed in south kashmir on thursday separatist leader syed ali shah geelani called for the shutdown after a youth lost his life on wednesday when security forces fired upon demonstrators protesting the killing of a militant in naina batpora village\n",
            "Original summary: shutdown in kashmir as youth killed in protests\n",
            "Predicted summary: protests in kashmir as army chief leaves 3 dead\n",
            "\n",
            "\n",
            "Review: actor salman khan has become bollywood 39 s highest advance tax payer for the financial year 2015 2016 according to income tax department 39 s data salman who has paid ₹20 crore as advance tax is followed by akshay kumar ₹16 crore ranbir kapoor ₹15 crore and shah rukh khan ₹14 crore notably akshay was the highest advance tax payer in the previous fiscal year\n",
            "Original summary: salman bollywood 39 s highest advance tax payer\n",
            "Predicted summary: salman bollywood 39 s highest advance tax collection report\n",
            "\n",
            "\n",
            "Review: us based manufacturer of action cameras gopro on monday announced its integration with twitter 39 s live streaming mobile application periscope enabling its users to broadcast their live videos directly on the periscope app once the gopro cameras are paired with the iphone it will recognize the installed periscope app and would allow the users to share their videos\n",
            "Original summary: gopro integrates with twitter 39 s periscope\n"
          ],
          "name": "stdout"
        }
      ]
    },
    {
      "cell_type": "code",
      "metadata": {
        "colab": {
          "background_save": true
        },
        "id": "3VmEDf0p_U49"
      },
      "source": [
        "orgsum=[]\n",
        "presum=[]\n",
        "from rouge_score import rouge_scorer\n",
        "\n",
        "for i in range(0,100):\n",
        "  j=random_[i]\n",
        "  #scorer = rouge_scorer.RougeScorer(['rouge1'], use_stemmer=True)\n",
        "  #scores1 = scorer.score(summarize(inputs_[j]),targets_[j])\n",
        "  #scorer = rouge_scorer.RougeScorer(['rougeL'], use_stemmer=True)\n",
        "  #scores2 = scorer.score(summarize(inputs_[j]),targets_[j])\n",
        "  #for key, value in scores2.items():\n",
        "    #if (value.fmeasure  >= 0.5) and (value.recall  >= 0.5) and (value.precision  >= 0.5) :\n",
        "  orgsum.append(targets_[j])\n",
        "  presum.append(summarize(inputs_[j]))"
      ],
      "execution_count": null,
      "outputs": []
    },
    {
      "cell_type": "code",
      "metadata": {
        "colab": {
          "background_save": true,
          "base_uri": "https://localhost:8080/",
          "height": 204
        },
        "id": "FLLH8-IR_bKU",
        "outputId": "1754f861-2acd-4b1f-a9ac-df34f50d049f"
      },
      "source": [
        "data_1 = pd.DataFrame({'Original summary':orgsum }) \n",
        "data_1.to_csv(\"Original_summary__.csv\",index=False) \n",
        "Original_summary__=pd.read_csv(\"Original_summary__.csv\")\n",
        "Original_summary__.head()"
      ],
      "execution_count": null,
      "outputs": [
        {
          "output_type": "execute_result",
          "data": {
            "text/html": [
              "<div>\n",
              "<style scoped>\n",
              "    .dataframe tbody tr th:only-of-type {\n",
              "        vertical-align: middle;\n",
              "    }\n",
              "\n",
              "    .dataframe tbody tr th {\n",
              "        vertical-align: top;\n",
              "    }\n",
              "\n",
              "    .dataframe thead th {\n",
              "        text-align: right;\n",
              "    }\n",
              "</style>\n",
              "<table border=\"1\" class=\"dataframe\">\n",
              "  <thead>\n",
              "    <tr style=\"text-align: right;\">\n",
              "      <th></th>\n",
              "      <th>Original summary</th>\n",
              "    </tr>\n",
              "  </thead>\n",
              "  <tbody>\n",
              "    <tr>\n",
              "      <th>0</th>\n",
              "      <td>39 airlift 39 great but short of facts says mea</td>\n",
              "    </tr>\n",
              "    <tr>\n",
              "      <th>1</th>\n",
              "      <td>apple posts highest ever quarterly net income</td>\n",
              "    </tr>\n",
              "    <tr>\n",
              "      <th>2</th>\n",
              "      <td>anti conversion law misused in mp archbishop</td>\n",
              "    </tr>\n",
              "    <tr>\n",
              "      <th>3</th>\n",
              "      <td>google street view adds 360° view of mont blanc</td>\n",
              "    </tr>\n",
              "    <tr>\n",
              "      <th>4</th>\n",
              "      <td>fipb clears 13 fdi proposals worth ₹6 500 cr</td>\n",
              "    </tr>\n",
              "  </tbody>\n",
              "</table>\n",
              "</div>"
            ],
            "text/plain": [
              "                                  Original summary\n",
              "0  39 airlift 39 great but short of facts says mea\n",
              "1    apple posts highest ever quarterly net income\n",
              "2     anti conversion law misused in mp archbishop\n",
              "3  google street view adds 360° view of mont blanc\n",
              "4     fipb clears 13 fdi proposals worth ₹6 500 cr"
            ]
          },
          "metadata": {
            "tags": []
          },
          "execution_count": 0
        }
      ]
    },
    {
      "cell_type": "code",
      "metadata": {
        "colab": {
          "background_save": true
        },
        "id": "5o8m85tU_gZT"
      },
      "source": [
        "with open(\"Original_summary__.csv\", 'r') as inp, open('T20.txt', 'w') as out:\n",
        "    for line in inp:\n",
        "        out.write(line)"
      ],
      "execution_count": null,
      "outputs": []
    },
    {
      "cell_type": "code",
      "metadata": {
        "colab": {
          "background_save": true,
          "base_uri": "https://localhost:8080/",
          "height": 204
        },
        "id": "0tezTQeJ_i4x",
        "outputId": "3f3abf50-710d-4bbb-e2a3-785b10828397"
      },
      "source": [
        "data_2 = pd.DataFrame({\"Predicted summary\":presum}) \n",
        "data_2.to_csv(\"Predicted_summary__.csv\",index=False) \n",
        "Predicted_summary__=pd.read_csv(\"Predicted_summary__.csv\")\n",
        "Predicted_summary__.head()"
      ],
      "execution_count": null,
      "outputs": [
        {
          "output_type": "execute_result",
          "data": {
            "text/html": [
              "<div>\n",
              "<style scoped>\n",
              "    .dataframe tbody tr th:only-of-type {\n",
              "        vertical-align: middle;\n",
              "    }\n",
              "\n",
              "    .dataframe tbody tr th {\n",
              "        vertical-align: top;\n",
              "    }\n",
              "\n",
              "    .dataframe thead th {\n",
              "        text-align: right;\n",
              "    }\n",
              "</style>\n",
              "<table border=\"1\" class=\"dataframe\">\n",
              "  <thead>\n",
              "    <tr style=\"text-align: right;\">\n",
              "      <th></th>\n",
              "      <th>Predicted summary</th>\n",
              "    </tr>\n",
              "  </thead>\n",
              "  <tbody>\n",
              "    <tr>\n",
              "      <th>0</th>\n",
              "      <td>39 nation 39 trending on twitter today</td>\n",
              "    </tr>\n",
              "    <tr>\n",
              "      <th>1</th>\n",
              "      <td>apple posts highest quarterly revenue in an ne...</td>\n",
              "    </tr>\n",
              "    <tr>\n",
              "      <th>2</th>\n",
              "      <td>anti muslim law against dalit officers</td>\n",
              "    </tr>\n",
              "    <tr>\n",
              "      <th>3</th>\n",
              "      <td>google street view adds 360° view of 39 jungle 39</td>\n",
              "    </tr>\n",
              "    <tr>\n",
              "      <th>4</th>\n",
              "      <td>ongc videsh gets ₹6 100 cr in foreign fund</td>\n",
              "    </tr>\n",
              "  </tbody>\n",
              "</table>\n",
              "</div>"
            ],
            "text/plain": [
              "                                   Predicted summary\n",
              "0             39 nation 39 trending on twitter today\n",
              "1  apple posts highest quarterly revenue in an ne...\n",
              "2             anti muslim law against dalit officers\n",
              "3  google street view adds 360° view of 39 jungle 39\n",
              "4         ongc videsh gets ₹6 100 cr in foreign fund"
            ]
          },
          "metadata": {
            "tags": []
          },
          "execution_count": 0
        }
      ]
    },
    {
      "cell_type": "code",
      "metadata": {
        "colab": {
          "background_save": true
        },
        "id": "V3v4g_L__lWV"
      },
      "source": [
        "with open(\"Predicted_summary__.csv\", 'r') as inp, open('T__20.txt', 'w') as out:\n",
        "    for line in inp:\n",
        "        out.write(line)"
      ],
      "execution_count": null,
      "outputs": []
    },
    {
      "cell_type": "code",
      "metadata": {
        "colab": {
          "base_uri": "https://localhost:8080/"
        },
        "id": "klDdFcAvAbfC",
        "outputId": "58d19828-722d-4689-dae0-1ee2f7108143"
      },
      "source": [
        "pip install rouge"
      ],
      "execution_count": null,
      "outputs": [
        {
          "output_type": "stream",
          "text": [
            "Collecting rouge\n",
            "  Downloading https://files.pythonhosted.org/packages/43/cc/e18e33be20971ff73a056ebdb023476b5a545e744e3fc22acd8c758f1e0d/rouge-1.0.0-py3-none-any.whl\n",
            "Requirement already satisfied: six in /usr/local/lib/python3.7/dist-packages (from rouge) (1.15.0)\n",
            "Installing collected packages: rouge\n",
            "Successfully installed rouge-1.0.0\n"
          ],
          "name": "stdout"
        }
      ]
    },
    {
      "cell_type": "code",
      "metadata": {
        "id": "scK9C9kT_rJc"
      },
      "source": [
        "from rouge import FilesRouge\n",
        "files_rouge = FilesRouge()\n",
        "scores = files_rouge.get_scores( hyp_path=\"/content/drive/MyDrive/news/T20.txt\", \n",
        "                                 ref_path='/content/drive/MyDrive/news/T__20.txt',\n",
        "                                 avg=True)"
      ],
      "execution_count": null,
      "outputs": []
    },
    {
      "cell_type": "markdown",
      "metadata": {
        "id": "b2XK8_MPMD1H"
      },
      "source": [
        "EPOCHS 10\n"
      ]
    },
    {
      "cell_type": "code",
      "metadata": {
        "id": "WrgXWPTOMCk3",
        "colab": {
          "base_uri": "https://localhost:8080/"
        },
        "outputId": "c2778477-8193-402f-e33f-1b913c3c8b94"
      },
      "source": [
        "key_=[]\n",
        "value_=[]\n",
        "for key, value in scores.items():\n",
        "  print(key,value)\n",
        "  key_.append(key)\n",
        "  value_.append(value)"
      ],
      "execution_count": null,
      "outputs": [
        {
          "output_type": "stream",
          "text": [
            "rouge-1 {'f': 0.3125569199194268, 'p': 0.3263365622276513, 'r': 0.3045998555899545}\n",
            "rouge-2 {'f': 0.1309439351493545, 'p': 0.13492885002785987, 'r': 0.1293793665080794}\n",
            "rouge-l {'f': 0.30506744620188836, 'p': 0.3068092523538067, 'r': 0.3109160916091608}\n"
          ],
          "name": "stdout"
        }
      ]
    },
    {
      "cell_type": "markdown",
      "metadata": {
        "id": "fcOFdJm0MDkM"
      },
      "source": [
        "EPOCHS 15"
      ]
    },
    {
      "cell_type": "code",
      "metadata": {
        "id": "3kWTA0WGMBnE",
        "colab": {
          "base_uri": "https://localhost:8080/"
        },
        "outputId": "e3564354-8407-4941-aba3-5053e2f94505"
      },
      "source": [
        "key_=[]\n",
        "value_=[]\n",
        "for key, value in scores.items():\n",
        "  print(key,value)\n",
        "  key_.append(key)\n",
        "  value_.append(value)"
      ],
      "execution_count": null,
      "outputs": [
        {
          "output_type": "stream",
          "text": [
            "rouge-1 {'f': 0.3424362638829445, 'p': 0.349188490277599, 'r': 0.34403654651179394}\n",
            "rouge-2 {'f': 0.14659875741823572, 'p': 0.15274813195605272, 'r': 0.14615818724729615}\n",
            "rouge-l {'f': 0.33514746416675056, 'p': 0.3314345720286313, 'r': 0.34547133284757037}\n"
          ],
          "name": "stdout"
        }
      ]
    },
    {
      "cell_type": "code",
      "metadata": {
        "colab": {
          "base_uri": "https://localhost:8080/"
        },
        "id": "0FaQPPly0Edo",
        "outputId": "5cc6e7d9-50d1-4065-c72b-3f064e6e37b8"
      },
      "source": [
        "key_=[]\n",
        "value_=[]\n",
        "for key, value in scores.items():\n",
        "  print(key,value)\n",
        "  key_.append(key)\n",
        "  value_.append(value)"
      ],
      "execution_count": null,
      "outputs": [
        {
          "output_type": "stream",
          "text": [
            "rouge-1 {'f': 0.39630956517246346, 'p': 0.40990884802765976, 'r': 0.3877327842674376}\n",
            "rouge-2 {'f': 0.2107506149399543, 'p': 0.21724815338676715, 'r': 0.2067426797624817}\n",
            "rouge-l {'f': 0.38563452885569205, 'p': 0.38757554326861243, 'r': 0.3904147557612903}\n"
          ],
          "name": "stdout"
        }
      ]
    },
    {
      "cell_type": "code",
      "metadata": {
        "id": "v81h4aCT2KIm"
      },
      "source": [
        "rouge_1_transformer=[0,0.3125569199194268, 0.3424362638829445, 0.39630956517246346] \n",
        "rouge_2_transformer=[0,0.1309439351493545, 0.14659875741823572, 0.2107506149399543]\n",
        "rouge_1_lstm=[0, 0.2262350351153508, 0.23455802628799766, 0.2817870087992989] \n",
        "rouge_2_lstm=[0, 0.07205284511783422, 0.06539359631948262, 0.082943486251831]\n",
        "epc=[\"Rouge_1\",\"Rouge_2\",\"Rouge_L\"]"
      ],
      "execution_count": null,
      "outputs": []
    },
    {
      "cell_type": "code",
      "metadata": {
        "id": "GRt6FaNevlNV"
      },
      "source": [
        "rouge_transformer=[ 0.39630956517246346,0.2107506149399543,0.38563452885569205]\n",
        "rouge_lstm=[ 0.2817870087992989,0.082943486251831,0.27516594985675574]"
      ],
      "execution_count": null,
      "outputs": []
    },
    {
      "cell_type": "code",
      "metadata": {
        "colab": {
          "base_uri": "https://localhost:8080/",
          "height": 266
        },
        "id": "hsPZenWdt1If",
        "outputId": "73ae3fd4-be8d-458d-a2ff-374923c21326"
      },
      "source": [
        "transformer_=plt.bar(epc,rouge_1_transformer,color=['#87CEFA', '#FFA07A', '#F0E68C'], width = 0.5)\n",
        "plt.axis([-1,3,0,0.44])\n",
        "plt.savefig('rougeNewstransformer.jpg')\n",
        "plt.show()\n"
      ],
      "execution_count": null,
      "outputs": [
        {
          "output_type": "display_data",
          "data": {
            "image/png": "[encoded data removed]",
            "text/plain": [
              "<Figure size 432x288 with 1 Axes>"
            ]
          },
          "metadata": {
            "tags": [],
            "needs_background": "light"
          }
        }
      ]
    },
    {
      "cell_type": "code",
      "metadata": {
        "colab": {
          "base_uri": "https://localhost:8080/",
          "height": 266
        },
        "id": "Utf7wPXT21o5",
        "outputId": "c6b519ec-205e-4342-be9d-97e2d4bedd6b"
      },
      "source": [
        "_lstm=plt.bar(epc,rouge_lstm,color=['#87CEFA', '#FFA07A', '#F0E68C'], width = 0.5)\n",
        "plt.axis([-1,3,0,0.44])\n",
        "plt.savefig('rougeNewsLSTM.jpg')\n",
        "plt.show()"
      ],
      "execution_count": null,
      "outputs": [
        {
          "output_type": "display_data",
          "data": {
            "image/png": "[encoded data removed]",
            "text/plain": [
              "<Figure size 432x288 with 1 Axes>"
            ]
          },
          "metadata": {
            "tags": [],
            "needs_background": "light"
          }
        }
      ]
    },
    {
      "cell_type": "code",
      "metadata": {
        "colab": {
          "base_uri": "https://localhost:8080/",
          "height": 592
        },
        "id": "JopvURH_5rog",
        "outputId": "c9210a32-2cf5-492a-b9f7-8006f7101a1e"
      },
      "source": [
        "import matplotlib.pyplot as plt \n",
        "fig, ax = plt.subplots( 1,1,figsize=(10,6))\n",
        "colors = [ '#FF6347']\n",
        "font1 = {'family':'serif','color':'red','size':13}\n",
        "font2 = {'family':'serif','color':'red','size':16}\n",
        "#u,=ax.plot(epc,rouge_l, marker = 'o')\n",
        "v,=ax.bar(epc,rouge_1_transformer)\n",
        "x,=ax.bar(epc,rouge_2_transformer, marker = 'o')\n",
        "#u.set_label('  ROUGE-l   ')\n",
        "v.set_label('  ROUGE-1   ')\n",
        "x.set_label('  ROUGE-2   ')\n",
        "#u.set_markersize(10)\n",
        "v.set_markersize(10)\n",
        "x.set_markersize(10)\n",
        "ax.tick_params(labelsize=15)\n",
        "#plt.title(\"News dataset\", fontdict = font3)\n",
        "ax.set_xlabel('EPOCHS', fontdict = font1)\n",
        "ax.set_ylabel('ROUGE-L', fontdict = font2)\n",
        "ax.legend()\n",
        "ax.spines['top'].set_visible(False)\n",
        "ax.spines['right'].set_visible(False)\n",
        "ax.grid()\n",
        "ax.axis([0, 22,0.0, 0.44])\n",
        "plt.savefig('rougeNews.jpg')\n",
        "plt.show()"
      ],
      "execution_count": null,
      "outputs": [
        {
          "output_type": "error",
          "ename": "AttributeError",
          "evalue": "ignored",
          "traceback": [
            "\u001b[0;31m---------------------------------------------------------------------------\u001b[0m",
            "\u001b[0;31mAttributeError\u001b[0m                            Traceback (most recent call last)",
            "\u001b[0;32m<ipython-input-62-84f9624e647b>\u001b[0m in \u001b[0;36m<module>\u001b[0;34m()\u001b[0m\n\u001b[1;32m      5\u001b[0m \u001b[0mfont2\u001b[0m \u001b[0;34m=\u001b[0m \u001b[0;34m{\u001b[0m\u001b[0;34m'family'\u001b[0m\u001b[0;34m:\u001b[0m\u001b[0;34m'serif'\u001b[0m\u001b[0;34m,\u001b[0m\u001b[0;34m'color'\u001b[0m\u001b[0;34m:\u001b[0m\u001b[0;34m'red'\u001b[0m\u001b[0;34m,\u001b[0m\u001b[0;34m'size'\u001b[0m\u001b[0;34m:\u001b[0m\u001b[0;36m16\u001b[0m\u001b[0;34m}\u001b[0m\u001b[0;34m\u001b[0m\u001b[0;34m\u001b[0m\u001b[0m\n\u001b[1;32m      6\u001b[0m \u001b[0;31m#u,=ax.plot(epc,rouge_l, marker = 'o')\u001b[0m\u001b[0;34m\u001b[0m\u001b[0;34m\u001b[0m\u001b[0;34m\u001b[0m\u001b[0m\n\u001b[0;32m----> 7\u001b[0;31m \u001b[0mv\u001b[0m\u001b[0;34m=\u001b[0m\u001b[0max\u001b[0m\u001b[0;34m.\u001b[0m\u001b[0mbar\u001b[0m\u001b[0;34m(\u001b[0m\u001b[0mepc\u001b[0m\u001b[0;34m,\u001b[0m\u001b[0mrouge_1_transformer\u001b[0m\u001b[0;34m,\u001b[0m\u001b[0mcolor\u001b[0m\u001b[0;34m=\u001b[0m\u001b[0;34m[\u001b[0m\u001b[0;34m'#87CEFA'\u001b[0m\u001b[0;34m,\u001b[0m \u001b[0;34m'#FFA07A'\u001b[0m\u001b[0;34m,\u001b[0m \u001b[0;34m'#F0E68C'\u001b[0m\u001b[0;34m]\u001b[0m\u001b[0;34m,\u001b[0m \u001b[0mwidth\u001b[0m \u001b[0;34m=\u001b[0m \u001b[0;36m0.3\u001b[0m\u001b[0;34m)\u001b[0m\u001b[0;34m\u001b[0m\u001b[0;34m\u001b[0m\u001b[0m\n\u001b[0m\u001b[1;32m      8\u001b[0m \u001b[0mx\u001b[0m\u001b[0;34m=\u001b[0m\u001b[0mplt\u001b[0m\u001b[0;34m.\u001b[0m\u001b[0mbar\u001b[0m\u001b[0;34m(\u001b[0m\u001b[0mepc\u001b[0m\u001b[0;34m,\u001b[0m\u001b[0mrouge_lstm\u001b[0m\u001b[0;34m,\u001b[0m\u001b[0mcolor\u001b[0m\u001b[0;34m=\u001b[0m\u001b[0;34m[\u001b[0m\u001b[0;34m'#87CEFA'\u001b[0m\u001b[0;34m,\u001b[0m \u001b[0;34m'#FFA07A'\u001b[0m\u001b[0;34m,\u001b[0m \u001b[0;34m'#F0E68C'\u001b[0m\u001b[0;34m]\u001b[0m\u001b[0;34m,\u001b[0m \u001b[0mwidth\u001b[0m \u001b[0;34m=\u001b[0m \u001b[0;36m0.3\u001b[0m\u001b[0;34m)\u001b[0m\u001b[0;34m\u001b[0m\u001b[0;34m\u001b[0m\u001b[0m\n\u001b[1;32m      9\u001b[0m \u001b[0;31m#u.set_label('  ROUGE-l   ')\u001b[0m\u001b[0;34m\u001b[0m\u001b[0;34m\u001b[0m\u001b[0;34m\u001b[0m\u001b[0m\n",
            "\u001b[0;31mAttributeError\u001b[0m: 'numpy.ndarray' object has no attribute 'bar'"
          ]
        },
        {
          "output_type": "display_data",
          "data": {
            "image/png": "[encoded data removed]",
            "text/plain": [
              "<Figure size 720x432 with 2 Axes>"
            ]
          },
          "metadata": {
            "tags": [],
            "needs_background": "light"
          }
        }
      ]
    },
    {
      "cell_type": "code",
      "metadata": {
        "colab": {
          "base_uri": "https://localhost:8080/",
          "height": 396
        },
        "id": "pUZtqi8e1Gvr",
        "outputId": "0dc2b106-d22a-4ae2-b777-f639f506da43"
      },
      "source": [
        "import matplotlib.pyplot as plt \n",
        "fig, ax = plt.subplots( 1,1,figsize=(10,6))\n",
        "colors = [ '#FF6347']\n",
        "font1 = {'family':'serif','color':'red','size':13}\n",
        "font2 = {'family':'serif','color':'red','size':16}\n",
        "#u,=ax.plot(epc,rouge_l, marker = 'o')\n",
        "v,=ax.plot(epc,rouge_1_lstm, marker = 'o')\n",
        "f,=ax.plot(epc,rouge_1_transformer, marker = 'o')\n",
        "x,=ax.plot(epc,rouge_2_lstm, marker = 'o')\n",
        "e,=ax.plot(epc,rouge_2_transformer, marker = 'o')\n",
        "#u.set_label('  ROUGE-l   ')\n",
        "v.set_label('  ROUGE-1-LSTM   ')\n",
        "f.set_label('  ROUGE-1-Transformer   ')\n",
        "x.set_label('  ROUGE-2-LSTM   ')\n",
        "e.set_label('  ROUGE-2-Transformer   ')\n",
        "#u.set_markersize(10)\n",
        "v.set_markersize(10)\n",
        "x.set_markersize(10)\n",
        "e.set_markersize(10)\n",
        "f.set_markersize(10)\n",
        "ax.tick_params(labelsize=15)\n",
        "#plt.title(\"News dataset\", fontdict = font3)\n",
        "ax.set_xlabel('EPOCHS', fontdict = font1)\n",
        "ax.set_ylabel('ROUGE', fontdict = font2)\n",
        "ax.legend()\n",
        "ax.spines['top'].set_visible(False)\n",
        "ax.spines['right'].set_visible(False)\n",
        "ax.grid()\n",
        "ax.axis([0, 22,0.0, 0.42])\n",
        "\n",
        "\n",
        "plt.savefig('rougenews_lstm_trans.jpg')\n",
        "plt.show()"
      ],
      "execution_count": null,
      "outputs": [
        {
          "output_type": "display_data",
          "data": {
            "image/png": "[encoded data removed]",
            "text/plain": [
              "<Figure size 720x432 with 1 Axes>"
            ]
          },
          "metadata": {
            "tags": [],
            "needs_background": "light"
          }
        }
      ]
    }
  ]
}