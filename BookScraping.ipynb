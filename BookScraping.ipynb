{
 "metadata": {
  "language_info": {
   "codemirror_mode": {
    "name": "ipython",
    "version": 3
   },
   "file_extension": ".py",
   "mimetype": "text/x-python",
   "name": "python",
   "nbconvert_exporter": "python",
   "pygments_lexer": "ipython3",
   "version": 3
  },
  "orig_nbformat": 2,
  "kernelspec": {
   "name": "python_defaultSpec_1597457283708",
   "display_name": "Python 3.7.3 64-bit ('base': conda)"
  }
 },
 "nbformat": 4,
 "nbformat_minor": 2,
 "cells": [
  {
   "cell_type": "code",
   "execution_count": 4,
   "metadata": {},
   "outputs": [],
   "source": [
    "import time\n",
    "from selenium import webdriver\n",
    "import pandas as pd\n",
    "import re\n",
    "from collections import Counter\n",
    "import numpy as np\n",
    "import matplotlib.pyplot as plt\n",
    "MAX_PAGE_NUM = 1       #number of pages \n",
    "path=r\"/Users/ahmedsaad/Desktop/Data science/geckodriver\"  ## you need to setup geckodriver first from \n",
    "driver=webdriver.Firefox(executable_path=path)\n",
    "rate1=[]\n",
    "number_of_reviwers=[]\n",
    "publication_year=[]\n",
    "for i in range(1, MAX_PAGE_NUM + 1): \n",
    "    page_num =  str(i)\n",
    "    url = \"https://www.idefix.com/kategori/Kitap/Bilim/grupno=00052?Page=\" + page_num \n",
    "    driver.get(url)\n",
    "    names = driver.find_elements_by_xpath('//a[@class=\"who\"]')\n",
    "    author=[name.text for name in names]\n",
    "    prices = driver.find_elements_by_xpath('//span[@class=\"price price\"]')\n",
    "    books_prices=[re.sub(r'(?is),', '.' , price.text[:-3]) for price in prices]\n",
    "    books = driver.find_elements_by_xpath('//div[@class=\"box-title\"]')\n",
    "    books_names=[book.text for book in books ]\n",
    "    links = driver.find_elements_by_xpath('/html/body/div[1]/section/div/div[2]/div[1]/div[5]/div/div[3]/div[2]/section/div/div/div/div/div/div/div/div[3]/a')\n",
    "    booksURLs = [elem.get_attribute('href') for elem in  links] # link to get to each book on the website \n",
    "    for j in booksURLs:                       \n",
    "        driver.get(j)\n",
    "        time.sleep(3)      ## To keep the data from corrupted\n",
    "        reviwers=driver.find_elements_by_xpath(\"/html/body/div[1]/section/div/div[2]/section[2]/div[1]/div/div/div[3]/div[2]/div[1]/div[2]/span/span[3]\")[0].text\n",
    "        number_of_reviwers.append(reviwers)\n",
    "        rate=driver.find_elements_by_xpath(\"/html/body/div[1]/section/div/div[2]/section[2]/div[1]/div/div/div[3]/div[2]/div[1]/div[2]/span/span[1]\")[0].text\n",
    "        rate1.append(re.sub(r'(?is),', '.' ,rate))\n",
    "        #publicationYear=driver.find_elements_by_xpath(\"/html/body/div[1]/section/div/div[2]/section[2]/div[2]/div/div/div/div/div/div[1]/div/ul/li[8]/a\")[0].text\n",
    "        #publication_year=[publication for publication in publicationYear]"
   ]
  },
  {
   "cell_type": "code",
   "execution_count": 5,
   "metadata": {},
   "outputs": [
    {
     "output_type": "execute_result",
     "data": {
      "text/plain": "                Author  ItemPrice  \\\n0   Serkan Karaisma...      34.30   \n1      Stephen Hawking      17.40   \n2       Tristan Gooley      18.00   \n3     Daniel Chamovitz      16.80   \n4   Serkan Karaisma...      25.20   \n5              Cem Say      13.20   \n6       Charles Darwin      28.00   \n7              Ed Yong      23.40   \n8       David Eagleman      23.40   \n9          Sinan Canan      21.00   \n10     Stephen Hawking      14.40   \n11      Nihat Tekdemir      50.69   \n12     Nathan H. Lents      24.46   \n13     Richard Dawkins      26.60   \n14         Sinan Canan      27.00   \n15  Carolyn Collins...      20.39   \n16     Stephen Hawking      10.65   \n17     Richard Dawkins      29.64   \n18     Peter Wohlleben      19.84   \n19        Ray Kurzweil      39.20   \n20      Mark Miodownik      20.80   \n21      David Eagleman      27.30   \n22     Albert Einstein      10.96   \n23        Marcus Chown      16.33   \n24      Richard Munson      27.28   \n25     Marianne Taylor      18.20   \n26    Marcia Bjornerud      21.60   \n27    Carl Gustav Jung       4.90   \n28     Stefano Mancuso      14.88   \n29      Shelley Amling      21.17   \n30            Kolektif      87.10   \n31          Carl Sagan      42.60   \n32      Charles Darwin      14.60   \n33  Richard P. Feynman      23.43   \n34      Charles Darwin      17.75   \n35             Fabcaro      27.30   \n\n                                                 Name  Rate  Reviwers  \n0                                     Arachnoid Mater   3.5        19  \n1                                 Zamanın Kısa Tarihi   4.0       125  \n2      Doğanın İşaretlerini Okumanın Kaybolmuş Sanatı   4.0        26  \n3                               Bitkilerin Bildikleri   4.0        27  \n4                   Beyinde Ararken Bağırsakta Buldum   3.5        56  \n5                                  Yeni Dünya Yeni Ağ   0.0         0  \n6                                     Türlerin Kökeni   4.0        31  \n7                                         Mikrobiyota   4.0        25  \n8                     Incognito - Beynin Gizli Hayatı   4.0       135  \n9   İFA: İnsanın Fabrika Ayarları 2. Kitap-İlişkil...   3.0         4  \n10                       Büyük Sorulara Kısa Yanıtlar   4.5        43  \n11                Persler Anadolu'da Kudret ve Görkem   4.0         3  \n12                                  İnsanın Kusurları   0.0         0  \n13                                      Gen Bencildir   4.5        29  \n14                       Kimsenin Bilemeyeceği Şeyler   3.5        39  \n15                                          Evren 101   4.0         5  \n16                                      Kara Delikler   4.5        38  \n17                                    Tanrı Yanılgısı   4.0       202  \n18                           Hayvanların Gizli Yaşamı   0.0         0  \n19                                       İnsanlık 2.0   3.5        30  \n20                                    Eşyanın Tabiatı   3.5        11  \n21  Yaratıcı Tür-Fikirler Dünyayı Nasıl Yeniden Ya...   4.0        19  \n22                                       Son Yıllarım   4.0         5  \n23                     Biraz Kuantum'dan Zarar Gelmez   4.5         5  \n24                      Tesla: Modern Dünyanın Mucidi   4.0         3  \n25     Doğa Kitabı: Bitkiler-Hayvanlar ve Gezegenimiz   4.0         2  \n26  Yeryüzünün Zamanı-Bir Jeolog Gibi Düşünerek Dü...   0.0         0  \n27             Gökte Görülen Cisimler Üzerine Bir Mit   0.0         0  \n28                                       Bitki Zekası   4.5        10  \n29                                       Fosil Avcısı   0.0         0  \n30                  David Eagleman Seti-4 Kitap Takım   4.0        16  \n31                      Carl Sagan Seti 2 Kitap Takım   4.5        16  \n32                                    Türlerin Kökeni   0.0         0  \n33  Eminim Şaka Yapıyorsunuz Bay Feynman - Meraklı...   4.5        20  \n34                                   İnsanın Türeyişi   4.5         2  \n35    Zeropedia-Her Şey Hakkında Her Şey ve Tam Tersi   5.0         1  ",
      "text/html": "<div>\n<style scoped>\n    .dataframe tbody tr th:only-of-type {\n        vertical-align: middle;\n    }\n\n    .dataframe tbody tr th {\n        vertical-align: top;\n    }\n\n    .dataframe thead th {\n        text-align: right;\n    }\n</style>\n<table border=\"1\" class=\"dataframe\">\n  <thead>\n    <tr style=\"text-align: right;\">\n      <th></th>\n      <th>Author</th>\n      <th>ItemPrice</th>\n      <th>Name</th>\n      <th>Rate</th>\n      <th>Reviwers</th>\n    </tr>\n  </thead>\n  <tbody>\n    <tr>\n      <td>0</td>\n      <td>Serkan Karaisma...</td>\n      <td>34.30</td>\n      <td>Arachnoid Mater</td>\n      <td>3.5</td>\n      <td>19</td>\n    </tr>\n    <tr>\n      <td>1</td>\n      <td>Stephen Hawking</td>\n      <td>17.40</td>\n      <td>Zamanın Kısa Tarihi</td>\n      <td>4.0</td>\n      <td>125</td>\n    </tr>\n    <tr>\n      <td>2</td>\n      <td>Tristan Gooley</td>\n      <td>18.00</td>\n      <td>Doğanın İşaretlerini Okumanın Kaybolmuş Sanatı</td>\n      <td>4.0</td>\n      <td>26</td>\n    </tr>\n    <tr>\n      <td>3</td>\n      <td>Daniel Chamovitz</td>\n      <td>16.80</td>\n      <td>Bitkilerin Bildikleri</td>\n      <td>4.0</td>\n      <td>27</td>\n    </tr>\n    <tr>\n      <td>4</td>\n      <td>Serkan Karaisma...</td>\n      <td>25.20</td>\n      <td>Beyinde Ararken Bağırsakta Buldum</td>\n      <td>3.5</td>\n      <td>56</td>\n    </tr>\n    <tr>\n      <td>5</td>\n      <td>Cem Say</td>\n      <td>13.20</td>\n      <td>Yeni Dünya Yeni Ağ</td>\n      <td>0.0</td>\n      <td>0</td>\n    </tr>\n    <tr>\n      <td>6</td>\n      <td>Charles Darwin</td>\n      <td>28.00</td>\n      <td>Türlerin Kökeni</td>\n      <td>4.0</td>\n      <td>31</td>\n    </tr>\n    <tr>\n      <td>7</td>\n      <td>Ed Yong</td>\n      <td>23.40</td>\n      <td>Mikrobiyota</td>\n      <td>4.0</td>\n      <td>25</td>\n    </tr>\n    <tr>\n      <td>8</td>\n      <td>David Eagleman</td>\n      <td>23.40</td>\n      <td>Incognito - Beynin Gizli Hayatı</td>\n      <td>4.0</td>\n      <td>135</td>\n    </tr>\n    <tr>\n      <td>9</td>\n      <td>Sinan Canan</td>\n      <td>21.00</td>\n      <td>İFA: İnsanın Fabrika Ayarları 2. Kitap-İlişkil...</td>\n      <td>3.0</td>\n      <td>4</td>\n    </tr>\n    <tr>\n      <td>10</td>\n      <td>Stephen Hawking</td>\n      <td>14.40</td>\n      <td>Büyük Sorulara Kısa Yanıtlar</td>\n      <td>4.5</td>\n      <td>43</td>\n    </tr>\n    <tr>\n      <td>11</td>\n      <td>Nihat Tekdemir</td>\n      <td>50.69</td>\n      <td>Persler Anadolu'da Kudret ve Görkem</td>\n      <td>4.0</td>\n      <td>3</td>\n    </tr>\n    <tr>\n      <td>12</td>\n      <td>Nathan H. Lents</td>\n      <td>24.46</td>\n      <td>İnsanın Kusurları</td>\n      <td>0.0</td>\n      <td>0</td>\n    </tr>\n    <tr>\n      <td>13</td>\n      <td>Richard Dawkins</td>\n      <td>26.60</td>\n      <td>Gen Bencildir</td>\n      <td>4.5</td>\n      <td>29</td>\n    </tr>\n    <tr>\n      <td>14</td>\n      <td>Sinan Canan</td>\n      <td>27.00</td>\n      <td>Kimsenin Bilemeyeceği Şeyler</td>\n      <td>3.5</td>\n      <td>39</td>\n    </tr>\n    <tr>\n      <td>15</td>\n      <td>Carolyn Collins...</td>\n      <td>20.39</td>\n      <td>Evren 101</td>\n      <td>4.0</td>\n      <td>5</td>\n    </tr>\n    <tr>\n      <td>16</td>\n      <td>Stephen Hawking</td>\n      <td>10.65</td>\n      <td>Kara Delikler</td>\n      <td>4.5</td>\n      <td>38</td>\n    </tr>\n    <tr>\n      <td>17</td>\n      <td>Richard Dawkins</td>\n      <td>29.64</td>\n      <td>Tanrı Yanılgısı</td>\n      <td>4.0</td>\n      <td>202</td>\n    </tr>\n    <tr>\n      <td>18</td>\n      <td>Peter Wohlleben</td>\n      <td>19.84</td>\n      <td>Hayvanların Gizli Yaşamı</td>\n      <td>0.0</td>\n      <td>0</td>\n    </tr>\n    <tr>\n      <td>19</td>\n      <td>Ray Kurzweil</td>\n      <td>39.20</td>\n      <td>İnsanlık 2.0</td>\n      <td>3.5</td>\n      <td>30</td>\n    </tr>\n    <tr>\n      <td>20</td>\n      <td>Mark Miodownik</td>\n      <td>20.80</td>\n      <td>Eşyanın Tabiatı</td>\n      <td>3.5</td>\n      <td>11</td>\n    </tr>\n    <tr>\n      <td>21</td>\n      <td>David Eagleman</td>\n      <td>27.30</td>\n      <td>Yaratıcı Tür-Fikirler Dünyayı Nasıl Yeniden Ya...</td>\n      <td>4.0</td>\n      <td>19</td>\n    </tr>\n    <tr>\n      <td>22</td>\n      <td>Albert Einstein</td>\n      <td>10.96</td>\n      <td>Son Yıllarım</td>\n      <td>4.0</td>\n      <td>5</td>\n    </tr>\n    <tr>\n      <td>23</td>\n      <td>Marcus Chown</td>\n      <td>16.33</td>\n      <td>Biraz Kuantum'dan Zarar Gelmez</td>\n      <td>4.5</td>\n      <td>5</td>\n    </tr>\n    <tr>\n      <td>24</td>\n      <td>Richard Munson</td>\n      <td>27.28</td>\n      <td>Tesla: Modern Dünyanın Mucidi</td>\n      <td>4.0</td>\n      <td>3</td>\n    </tr>\n    <tr>\n      <td>25</td>\n      <td>Marianne Taylor</td>\n      <td>18.20</td>\n      <td>Doğa Kitabı: Bitkiler-Hayvanlar ve Gezegenimiz</td>\n      <td>4.0</td>\n      <td>2</td>\n    </tr>\n    <tr>\n      <td>26</td>\n      <td>Marcia Bjornerud</td>\n      <td>21.60</td>\n      <td>Yeryüzünün Zamanı-Bir Jeolog Gibi Düşünerek Dü...</td>\n      <td>0.0</td>\n      <td>0</td>\n    </tr>\n    <tr>\n      <td>27</td>\n      <td>Carl Gustav Jung</td>\n      <td>4.90</td>\n      <td>Gökte Görülen Cisimler Üzerine Bir Mit</td>\n      <td>0.0</td>\n      <td>0</td>\n    </tr>\n    <tr>\n      <td>28</td>\n      <td>Stefano Mancuso</td>\n      <td>14.88</td>\n      <td>Bitki Zekası</td>\n      <td>4.5</td>\n      <td>10</td>\n    </tr>\n    <tr>\n      <td>29</td>\n      <td>Shelley Amling</td>\n      <td>21.17</td>\n      <td>Fosil Avcısı</td>\n      <td>0.0</td>\n      <td>0</td>\n    </tr>\n    <tr>\n      <td>30</td>\n      <td>Kolektif</td>\n      <td>87.10</td>\n      <td>David Eagleman Seti-4 Kitap Takım</td>\n      <td>4.0</td>\n      <td>16</td>\n    </tr>\n    <tr>\n      <td>31</td>\n      <td>Carl Sagan</td>\n      <td>42.60</td>\n      <td>Carl Sagan Seti 2 Kitap Takım</td>\n      <td>4.5</td>\n      <td>16</td>\n    </tr>\n    <tr>\n      <td>32</td>\n      <td>Charles Darwin</td>\n      <td>14.60</td>\n      <td>Türlerin Kökeni</td>\n      <td>0.0</td>\n      <td>0</td>\n    </tr>\n    <tr>\n      <td>33</td>\n      <td>Richard P. Feynman</td>\n      <td>23.43</td>\n      <td>Eminim Şaka Yapıyorsunuz Bay Feynman - Meraklı...</td>\n      <td>4.5</td>\n      <td>20</td>\n    </tr>\n    <tr>\n      <td>34</td>\n      <td>Charles Darwin</td>\n      <td>17.75</td>\n      <td>İnsanın Türeyişi</td>\n      <td>4.5</td>\n      <td>2</td>\n    </tr>\n    <tr>\n      <td>35</td>\n      <td>Fabcaro</td>\n      <td>27.30</td>\n      <td>Zeropedia-Her Şey Hakkında Her Şey ve Tam Tersi</td>\n      <td>5.0</td>\n      <td>1</td>\n    </tr>\n  </tbody>\n</table>\n</div>"
     },
     "metadata": {},
     "execution_count": 5
    }
   ],
   "source": [
    "#Easiest way to store your data in csv file\n",
    "scraped_data = pd.DataFrame({'Author': author, 'ItemPrice': books_prices,'Name':books_names,'Rate':rate1,'Reviwers':number_of_reviwers}) \n",
    "scraped_data.to_csv(\"book_sc.csv\",index=False) # give any name to csv file \n",
    "pd.read_csv(\"book_sc.csv\") #read csv file "
   ]
  },
  {
   "cell_type": "code",
   "execution_count": 9,
   "metadata": {
    "tags": []
   },
   "outputs": [
    {
     "output_type": "stream",
     "name": "stdout",
     "text": "[[196.81825611   5.28281349]\n [  5.28281349   2.79265873]]\nMean:  24.438055555555554\nMedian:  21.385\nstdev:  13.832970842528619\n"
    },
    {
     "output_type": "display_data",
     "data": {
      "text/plain": "<Figure size 432x288 with 1 Axes>",
      "image/png": "[encoded data removed]"
     },
     "metadata": {
      "needs_background": "light"
     }
    }
   ],
   "source": [
    "list_1=[]\n",
    "iteamPrice = list(map(float,books_prices))\n",
    "Reviwers = list(map(int, number_of_reviwers))  \n",
    "Rate=list(map(float, rate1))\n",
    "print( np.cov(iteamPrice, Rate))\n",
    "for i,j in enumerate(Reviwers):\n",
    "    list_1.append(i+1)\n",
    "npiteamPrice=np.array(iteamPrice) \n",
    "print(\"Mean: \",npiteamPrice.mean())\n",
    "print(\"Median: \",np.median(npiteamPrice))\n",
    "print(\"stdev: \",np.std(npiteamPrice))\n",
    "plt.bar(list_1,Reviwers)\n",
    "plt.axis([-10,40,10,210])\n",
    "plt.show()"
   ]
  },
  {
   "cell_type": "code",
   "execution_count": 11,
   "metadata": {
    "tags": []
   },
   "outputs": [
    {
     "output_type": "stream",
     "name": "stdout",
     "text": "Counter({'ve': 4, 'Kısa': 2, 'Gizli': 2, 'Dünyayı': 2, 'Bir': 2, 'Kitap': 2, 'Şey': 2, 'Arachnoid': 1, 'MaterZamanın': 1, 'TarihiDoğanın': 1, 'İşaretlerini': 1, 'Okumanın': 1, 'Kaybolmuş': 1, 'SanatıBitkilerin': 1, 'BildikleriBeyinde': 1, 'Ararken': 1, 'Bağırsakta': 1, 'BuldumYeni': 1, 'Dünya': 1, 'Yeni': 1, 'AğTürlerin': 1, 'KökeniMikrobiyotaIncognito': 1, 'Beynin': 1, 'HayatıİFA:': 1, 'İnsanın': 1, 'Fabrika': 1, 'Ayarları': 1, '2.': 1, 'Kitapİlişkiler': 1, 'StresBüyük': 1, 'Sorulara': 1, 'YanıtlarPersler': 1, \"Anadolu'da\": 1, 'Kudret': 1, 'Görkemİnsanın': 1, 'KusurlarıGen': 1, 'BencildirKimsenin': 1, 'Bilemeyeceği': 1, 'ŞeylerEvren': 1, '101Kara': 1, 'DeliklerTanrı': 1, 'YanılgısıHayvanların': 1, 'Yaşamıİnsanlık': 1, '2.0Eşyanın': 1, 'TabiatıYaratıcı': 1, 'TürFikirler': 1, 'Nasıl': 1, 'Yeniden': 1, 'YaratıyorSon': 1, 'YıllarımBiraz': 1, \"Kuantum'dan\": 1, 'Zarar': 1, 'GelmezTesla:': 1, 'Modern': 1, 'Dünyanın': 1, 'MucidiDoğa': 1, 'Kitabı:': 1, 'BitkilerHayvanlar': 1, 'GezegenimizYeryüzünün': 1, 'ZamanıBir': 1, 'Jeolog': 1, 'Gibi': 1, 'Düşünerek': 1, 'Kurta...Gökte': 1, 'Görülen': 1, 'Cisimler': 1, 'Üzerine': 1, 'MitBitki': 1, 'ZekasıFosil': 1, 'AvcısıDavid': 1, 'Eagleman': 1, 'Seti4': 1, 'TakımCarl': 1, 'Sagan': 1, 'Seti': 1, '2': 1, 'TakımTürlerin': 1, 'KökeniEminim': 1, 'Şaka': 1, 'Yapıyorsunuz': 1, 'Bay': 1, 'Feynman': 1, 'Meraklı': 1, 'Şahsiy...İnsanın': 1, 'TüreyişiZeropediaHer': 1, 'Hakkında': 1, 'Her': 1, 'Tam': 1, 'Tersi': 1}) \n\nThe most used word in the book names:   ve\n"
    }
   ],
   "source": [
    "a=''.join(books_names)\n",
    "s=re.findall(\"[^-]\",a)\n",
    "d=''.join(s)\n",
    "m=d.split()\n",
    "q=Counter(m)\n",
    "print(q,\"\\n\")\n",
    "inverse = [(value, key) for key, value in q.items()]\n",
    "print(\"The most used word in the book names:  \",max(inverse)[1])"
   ]
  },
  {
   "cell_type": "code",
   "execution_count": null,
   "metadata": {},
   "outputs": [],
   "source": []
  }
 ]
}